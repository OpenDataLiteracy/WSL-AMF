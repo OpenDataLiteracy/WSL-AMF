{
 "cells": [
  {
   "cell_type": "markdown",
   "metadata": {},
   "source": [
    "## Portal Assets Analysis\n",
    "Before importing the csv file, clean it and save as csv-utf8\n",
    "Clean: reformat create and update date columns to be actual dates; standardize data_provided_by column as best as you can\n",
    "Remove any 'test' datasets before importing (search 'name' and 'description' for \"test\", but look out for lead testing datasets).  Remove any gis datasets since the metadata is imported (easiest thing is to search the licenses, all are type 'href').  This code ignores private datasets that have public derived views (like charts and maps)."
   ]
  },
  {
   "cell_type": "code",
   "execution_count": 1,
   "metadata": {},
   "outputs": [],
   "source": [
    "import csv\n",
    "import numpy as np\n",
    "import pandas as pd\n",
    "import os\n",
    "import matplotlib.pyplot as plt"
   ]
  },
  {
   "cell_type": "code",
   "execution_count": 2,
   "metadata": {},
   "outputs": [],
   "source": [
    "#This shows your working directory:\n",
    "#os.getcwd()\n",
    "\n",
    "#Read the csv into a dataframe. If your path name has a folder starting with 'u', you'll need double '\\'\n",
    "df = pd.read_csv('Documents\\\\UW\\\\ODL\\\\code\\\\asset24june.csv')\n",
    "\n",
    "# check the data frame info\n",
    "#print(df.info())"
   ]
  },
  {
   "cell_type": "markdown",
   "metadata": {},
   "source": [
    "### Rename Columns\n",
    "Replaces column names in place"
   ]
  },
  {
   "cell_type": "code",
   "execution_count": 3,
   "metadata": {},
   "outputs": [],
   "source": [
    "df.rename({\"URL\": \"url\",\n",
    "\"U ID\": \"uid\",\n",
    "\"Public\": \"public\",\n",
    "\"Derived View\": \"derived\",\n",
    "\"Parent UID\": \"parentUid\",\n",
    "\"Domain\": \"domain\",\n",
    "\"Type\": \"type\",\n",
    "\"Name\": \"name\",\n",
    "\"Description\": \"description\",\n",
    "\"Visits\": \"visits\",\n",
    "\"Creation Date\": \"creationDate\",\n",
    "\"Last Update Date (data)\": \"lastUpdateData\",\n",
    "\"Category\": \"category\",\n",
    "\"Keywords\": \"keywords\",\n",
    "\"Downloads\": \"downloads\",\n",
    "\"Owner\": \"owner\",\n",
    "\"Contact Email\": \"contactEmail\",\n",
    "\"License\": \"license\",\n",
    "\"Publication Stage\": \"publicationStage\",\n",
    "\"Published Version Name\": \"publishedVersionName\",\n",
    "\"Published Version UID\": \"publishedVersionUid\",\n",
    "\"data_provided_by\": \"data_provided_by\",\n",
    "\"3\": \"notes3\",\n",
    "\"Period of Time\": \"periodOfTime\",\n",
    "\"4\": \"notes4\",\n",
    "\"Publishing Department\": \"publishingDepartment\",\n",
    "\"routing_approval\": \"routing_approval\",\n",
    "\"6\": \"notes6\",\n",
    "\"api_endpoint\": \"api_endpoint\",\n",
    "\"5\": \"notes5\",\n",
    "\"2\": \"notes2\",\n",
    "\"Posting Frequency\": \"postingFreq\",\n",
    "\"1\": \"notes1\",\n",
    "\"source_link\": \"source_link\",\n",
    "\"owner_uid\": \"owner_uid\",\n",
    "\"View Moderation Status\": \"viewModerationStatus\",\n",
    "\"provenance\": \"provenance\",\n",
    "\"capabilities\": \"capabilities\",\n",
    "\"supportedQueryFormats\": \"supportedQueryFormats\",\n",
    "\"htmlPopupType\": \"htmlPopupType\",\n",
    "\"copyrightText\": \"copyrightText\",\n",
    "\"geometryType\": \"geometryType\",\n",
    "\"Spatial Reference wkid\": \"spatialRefwkid\",\n",
    "\"Source\": \"source\",\n",
    "\"fields\": \"fields\",\n",
    "\"displayField\": \"displayField\",\n",
    "\"Last Update\": \"lastUpdate\",\n",
    "\"Endpoint\": \"endPoint\",\n",
    "\"Public Access Level\": \"publicAccessLevel\",\n",
    "\"Geographic Coverage\": \"geographicCoverage\",\n",
    "\"Unique Identifier\": \"uniqueIdentifier\",\n",
    "\"Publisher\": \"publisher\",\n",
    "\"Homepage\": \"homepage\",\n",
    "\"Theme\": \"theme\",\n",
    "\"Issued\": \"issued\",\n",
    "\"Contact Name\": \"contactName\",\n",
    "\"Originator\": \"originator\",\n",
    "\"Metadata Language\": \"metadataLang\",\n",
    "\"Data Definition\": \"dataDefinition\",\n",
    "\"Data Frequency\": \"dataFreq\",\n",
    "\"Data Source\": \"dataSource\",\n",
    "\"Target Rationale\": \"targetRational\",\n",
    "\"Level of Influence\": \"levelOfInfluence\",\n",
    "\"Contact Email (custom)\": \"contactEmailCustom\",\n",
    "\"Program Code\": \"programCode\",\n",
    "\"Contact Point\": \"contactPoint\",\n",
    "\"Bureau Code\": \"bureauCode\"}, axis=1, inplace=True)"
   ]
  },
  {
   "cell_type": "code",
   "execution_count": 49,
   "metadata": {},
   "outputs": [
    {
     "name": "stdout",
     "output_type": "stream",
     "text": [
      "<class 'pandas.core.frame.DataFrame'>\n",
      "RangeIndex: 3663 entries, 0 to 3662\n",
      "Data columns (total 67 columns):\n",
      "url                      3575 non-null object\n",
      "uid                      3575 non-null object\n",
      "public                   3575 non-null object\n",
      "derived                  3575 non-null object\n",
      "parentUid                2158 non-null object\n",
      "domain                   3575 non-null object\n",
      "type                     3575 non-null object\n",
      "name                     3574 non-null object\n",
      "description              2430 non-null object\n",
      "visits                   3575 non-null float64\n",
      "creationDate             3575 non-null object\n",
      "lastUpdateData           3575 non-null object\n",
      "category                 2473 non-null object\n",
      "keywords                 2341 non-null object\n",
      "downloads                3575 non-null float64\n",
      "owner                    3575 non-null object\n",
      "contactEmail             700 non-null object\n",
      "license                  1316 non-null object\n",
      "publicationStage         3575 non-null object\n",
      "publishedVersionName     0 non-null float64\n",
      "publishedVersionUid      0 non-null float64\n",
      "data_provided_by         1825 non-null object\n",
      "notes3                   151 non-null object\n",
      "periodOfTime             412 non-null object\n",
      "notes4                   90 non-null object\n",
      "publishingDepartment     16 non-null object\n",
      "routing_approval         0 non-null float64\n",
      "notes6                   13 non-null object\n",
      "api_endpoint             3575 non-null object\n",
      "notes5                   32 non-null object\n",
      "notes2                   235 non-null object\n",
      "postingFreq              971 non-null object\n",
      "notes1                   431 non-null object\n",
      "source_link              1408 non-null object\n",
      "owner_uid                3575 non-null object\n",
      "viewModerationStatus     0 non-null float64\n",
      "provenance               3575 non-null object\n",
      "capabilities             1 non-null object\n",
      "supportedQueryFormats    1 non-null object\n",
      "htmlPopupType            1 non-null object\n",
      "copyrightText            1 non-null object\n",
      "geometryType             1 non-null object\n",
      "spatialRefwkid           1 non-null float64\n",
      "source                   1 non-null object\n",
      "fields                   1 non-null object\n",
      "displayField             1 non-null object\n",
      "lastUpdate               0 non-null float64\n",
      "endPoint                 0 non-null float64\n",
      "publicAccessLevel        0 non-null float64\n",
      "geographicCoverage       0 non-null float64\n",
      "uniqueIdentifier         0 non-null float64\n",
      "publisher                0 non-null float64\n",
      "homepage                 0 non-null float64\n",
      "theme                    0 non-null float64\n",
      "issued                   0 non-null float64\n",
      "contactName              0 non-null float64\n",
      "originator               100 non-null object\n",
      "metadataLang             57 non-null object\n",
      "dataDefinition           6 non-null object\n",
      "dataFreq                 6 non-null object\n",
      "dataSource               6 non-null object\n",
      "targetRational           6 non-null object\n",
      "levelOfInfluence         6 non-null object\n",
      "contactEmailCustom       0 non-null float64\n",
      "programCode              0 non-null float64\n",
      "contactPoint             0 non-null float64\n",
      "bureauCode               0 non-null float64\n",
      "dtypes: float64(21), object(46)\n",
      "memory usage: 1.9+ MB\n",
      "None\n"
     ]
    }
   ],
   "source": [
    "print(df.info())"
   ]
  },
  {
   "cell_type": "code",
   "execution_count": 50,
   "metadata": {},
   "outputs": [
    {
     "data": {
      "text/html": [
       "<div>\n",
       "<style scoped>\n",
       "    .dataframe tbody tr th:only-of-type {\n",
       "        vertical-align: middle;\n",
       "    }\n",
       "\n",
       "    .dataframe tbody tr th {\n",
       "        vertical-align: top;\n",
       "    }\n",
       "\n",
       "    .dataframe thead th {\n",
       "        text-align: right;\n",
       "    }\n",
       "</style>\n",
       "<table border=\"1\" class=\"dataframe\">\n",
       "  <thead>\n",
       "    <tr style=\"text-align: right;\">\n",
       "      <th></th>\n",
       "      <th>url</th>\n",
       "      <th>uid</th>\n",
       "      <th>public</th>\n",
       "      <th>derived</th>\n",
       "      <th>parentUid</th>\n",
       "      <th>domain</th>\n",
       "      <th>type</th>\n",
       "      <th>name</th>\n",
       "      <th>description</th>\n",
       "      <th>visits</th>\n",
       "      <th>...</th>\n",
       "      <th>metadataLang</th>\n",
       "      <th>dataDefinition</th>\n",
       "      <th>dataFreq</th>\n",
       "      <th>dataSource</th>\n",
       "      <th>targetRational</th>\n",
       "      <th>levelOfInfluence</th>\n",
       "      <th>contactEmailCustom</th>\n",
       "      <th>programCode</th>\n",
       "      <th>contactPoint</th>\n",
       "      <th>bureauCode</th>\n",
       "    </tr>\n",
       "  </thead>\n",
       "  <tbody>\n",
       "    <tr>\n",
       "      <th>0</th>\n",
       "      <td>https://data.wa.gov/d/5cqd-fjdi</td>\n",
       "      <td>5cqd-fjdi</td>\n",
       "      <td>False</td>\n",
       "      <td>True</td>\n",
       "      <td>yizh-eh8b</td>\n",
       "      <td>data.wa.gov</td>\n",
       "      <td>form</td>\n",
       "      <td>Simple Data Share Register</td>\n",
       "      <td>Sometimes employees of two different agencies ...</td>\n",
       "      <td>9.0</td>\n",
       "      <td>...</td>\n",
       "      <td>NaN</td>\n",
       "      <td>NaN</td>\n",
       "      <td>NaN</td>\n",
       "      <td>NaN</td>\n",
       "      <td>NaN</td>\n",
       "      <td>NaN</td>\n",
       "      <td>NaN</td>\n",
       "      <td>NaN</td>\n",
       "      <td>NaN</td>\n",
       "      <td>NaN</td>\n",
       "    </tr>\n",
       "    <tr>\n",
       "      <th>1</th>\n",
       "      <td>https://data.wa.gov/d/9jds-te9m</td>\n",
       "      <td>9jds-te9m</td>\n",
       "      <td>True</td>\n",
       "      <td>True</td>\n",
       "      <td>yizh-eh8b</td>\n",
       "      <td>data.wa.gov</td>\n",
       "      <td>filter</td>\n",
       "      <td>DSA Register - PublicView</td>\n",
       "      <td>Sometimes employees of two different agencies ...</td>\n",
       "      <td>171.0</td>\n",
       "      <td>...</td>\n",
       "      <td>NaN</td>\n",
       "      <td>NaN</td>\n",
       "      <td>NaN</td>\n",
       "      <td>NaN</td>\n",
       "      <td>NaN</td>\n",
       "      <td>NaN</td>\n",
       "      <td>NaN</td>\n",
       "      <td>NaN</td>\n",
       "      <td>NaN</td>\n",
       "      <td>NaN</td>\n",
       "    </tr>\n",
       "    <tr>\n",
       "      <th>2</th>\n",
       "      <td>https://data.wa.gov/d/bu6u-rj74</td>\n",
       "      <td>bu6u-rj74</td>\n",
       "      <td>False</td>\n",
       "      <td>True</td>\n",
       "      <td>yizh-eh8b</td>\n",
       "      <td>data.wa.gov</td>\n",
       "      <td>filter</td>\n",
       "      <td>DSA Register - AuditView</td>\n",
       "      <td>Sometimes employees of two different agencies ...</td>\n",
       "      <td>6.0</td>\n",
       "      <td>...</td>\n",
       "      <td>NaN</td>\n",
       "      <td>NaN</td>\n",
       "      <td>NaN</td>\n",
       "      <td>NaN</td>\n",
       "      <td>NaN</td>\n",
       "      <td>NaN</td>\n",
       "      <td>NaN</td>\n",
       "      <td>NaN</td>\n",
       "      <td>NaN</td>\n",
       "      <td>NaN</td>\n",
       "    </tr>\n",
       "    <tr>\n",
       "      <th>3</th>\n",
       "      <td>https://data.wa.gov/d/yizh-eh8b</td>\n",
       "      <td>yizh-eh8b</td>\n",
       "      <td>False</td>\n",
       "      <td>False</td>\n",
       "      <td>NaN</td>\n",
       "      <td>data.wa.gov</td>\n",
       "      <td>dataset</td>\n",
       "      <td>Data Sharing Agreements Register</td>\n",
       "      <td>Sometimes employees of two different agencies ...</td>\n",
       "      <td>23.0</td>\n",
       "      <td>...</td>\n",
       "      <td>English</td>\n",
       "      <td>NaN</td>\n",
       "      <td>NaN</td>\n",
       "      <td>NaN</td>\n",
       "      <td>NaN</td>\n",
       "      <td>NaN</td>\n",
       "      <td>NaN</td>\n",
       "      <td>NaN</td>\n",
       "      <td>NaN</td>\n",
       "      <td>NaN</td>\n",
       "    </tr>\n",
       "    <tr>\n",
       "      <th>4</th>\n",
       "      <td>https://data.wa.gov/d/x5aq-6f3n</td>\n",
       "      <td>x5aq-6f3n</td>\n",
       "      <td>True</td>\n",
       "      <td>False</td>\n",
       "      <td>NaN</td>\n",
       "      <td>data.wa.gov</td>\n",
       "      <td>href</td>\n",
       "      <td>Historical Washington Aerial Imagery</td>\n",
       "      <td>Aerial imagery of the state of Washington, fro...</td>\n",
       "      <td>683.0</td>\n",
       "      <td>...</td>\n",
       "      <td>English</td>\n",
       "      <td>NaN</td>\n",
       "      <td>NaN</td>\n",
       "      <td>NaN</td>\n",
       "      <td>NaN</td>\n",
       "      <td>NaN</td>\n",
       "      <td>NaN</td>\n",
       "      <td>NaN</td>\n",
       "      <td>NaN</td>\n",
       "      <td>NaN</td>\n",
       "    </tr>\n",
       "  </tbody>\n",
       "</table>\n",
       "<p>5 rows × 67 columns</p>\n",
       "</div>"
      ],
      "text/plain": [
       "                               url        uid public derived  parentUid  \\\n",
       "0  https://data.wa.gov/d/5cqd-fjdi  5cqd-fjdi  False    True  yizh-eh8b   \n",
       "1  https://data.wa.gov/d/9jds-te9m  9jds-te9m   True    True  yizh-eh8b   \n",
       "2  https://data.wa.gov/d/bu6u-rj74  bu6u-rj74  False    True  yizh-eh8b   \n",
       "3  https://data.wa.gov/d/yizh-eh8b  yizh-eh8b  False   False        NaN   \n",
       "4  https://data.wa.gov/d/x5aq-6f3n  x5aq-6f3n   True   False        NaN   \n",
       "\n",
       "        domain     type                                  name  \\\n",
       "0  data.wa.gov     form            Simple Data Share Register   \n",
       "1  data.wa.gov   filter             DSA Register - PublicView   \n",
       "2  data.wa.gov   filter              DSA Register - AuditView   \n",
       "3  data.wa.gov  dataset      Data Sharing Agreements Register   \n",
       "4  data.wa.gov     href  Historical Washington Aerial Imagery   \n",
       "\n",
       "                                         description  visits  ...  \\\n",
       "0  Sometimes employees of two different agencies ...     9.0  ...   \n",
       "1  Sometimes employees of two different agencies ...   171.0  ...   \n",
       "2  Sometimes employees of two different agencies ...     6.0  ...   \n",
       "3  Sometimes employees of two different agencies ...    23.0  ...   \n",
       "4  Aerial imagery of the state of Washington, fro...   683.0  ...   \n",
       "\n",
       "  metadataLang dataDefinition dataFreq dataSource  targetRational  \\\n",
       "0          NaN            NaN      NaN        NaN             NaN   \n",
       "1          NaN            NaN      NaN        NaN             NaN   \n",
       "2          NaN            NaN      NaN        NaN             NaN   \n",
       "3      English            NaN      NaN        NaN             NaN   \n",
       "4      English            NaN      NaN        NaN             NaN   \n",
       "\n",
       "  levelOfInfluence contactEmailCustom programCode contactPoint  bureauCode  \n",
       "0              NaN                NaN         NaN          NaN         NaN  \n",
       "1              NaN                NaN         NaN          NaN         NaN  \n",
       "2              NaN                NaN         NaN          NaN         NaN  \n",
       "3              NaN                NaN         NaN          NaN         NaN  \n",
       "4              NaN                NaN         NaN          NaN         NaN  \n",
       "\n",
       "[5 rows x 67 columns]"
      ]
     },
     "execution_count": 50,
     "metadata": {},
     "output_type": "execute_result"
    }
   ],
   "source": [
    "df.head()"
   ]
  },
  {
   "cell_type": "markdown",
   "metadata": {},
   "source": [
    "### Add a column showing base asset (parent asset)"
   ]
  },
  {
   "cell_type": "code",
   "execution_count": 5,
   "metadata": {},
   "outputs": [],
   "source": [
    "df['allParentUid'] = np.nan #Adds empty column\n",
    "\n",
    "#Tried to do it all at once, doesn't work:\n",
    "#df['allParentUid'] = df.apply(\n",
    "#    lambda row: row['uid'] if np.isnan(row['parentUid']) else row['parentUid'],\n",
    "#    axis=1\n",
    "#)\n",
    "\n",
    "df['allParentUid'].fillna(df['parentUid'], inplace=True) #This works replacing NaN with parentUid\n",
    "df.loc[(pd.isnull(df.allParentUid)), 'allParentUid'] = df.uid #This works to put all the uids into allParentUid- but is this just a copy?\n",
    "\n",
    "#df.head()"
   ]
  },
  {
   "cell_type": "markdown",
   "metadata": {},
   "source": [
    "### Fill NaN vlaues in 'description' with 'null' to allow indexing"
   ]
  },
  {
   "cell_type": "code",
   "execution_count": 6,
   "metadata": {},
   "outputs": [],
   "source": [
    "df['description'].fillna('null', inplace=True)"
   ]
  },
  {
   "cell_type": "markdown",
   "metadata": {},
   "source": [
    "### Look at distribution of types of all assets (public and not)\n",
    "Uses the matplotlib package to count the occurances of each type"
   ]
  },
  {
   "cell_type": "code",
   "execution_count": 7,
   "metadata": {},
   "outputs": [
    {
     "data": {
      "text/plain": [
       "Text(0.5, 0, 'Frequency')"
      ]
     },
     "execution_count": 7,
     "metadata": {},
     "output_type": "execute_result"
    },
    {
     "data": {
      "image/png": "[encoded data removed]",
      "text/plain": [
       "<Figure size 432x288 with 1 Axes>"
      ]
     },
     "metadata": {
      "needs_background": "light"
     },
     "output_type": "display_data"
    }
   ],
   "source": [
    "#mask = df[df['public'] == 1] #public is boolean so it 1=true\n",
    "#plot = mask.plot.pie(y='type', figsize=(5, 5))\n",
    "\n",
    "#Plot a histogram of frequencies\n",
    "df.type.value_counts().plot(kind='barh')\n",
    "plt.title('Number of appearances in dataset')\n",
    "plt.xlabel('Frequency')"
   ]
  },
  {
   "cell_type": "markdown",
   "metadata": {},
   "source": [
    "### Plot the top five types of datasets and include an 'others' type as well"
   ]
  },
  {
   "cell_type": "code",
   "execution_count": 28,
   "metadata": {},
   "outputs": [
    {
     "data": {
      "text/plain": [
       "Text(0, 0.5, '')"
      ]
     },
     "execution_count": 28,
     "metadata": {},
     "output_type": "execute_result"
    },
    {
     "data": {
      "image/png": "[encoded data removed]",
      "text/plain": [
       "<Figure size 432x288 with 1 Axes>"
      ]
     },
     "metadata": {},
     "output_type": "display_data"
    }
   ],
   "source": [
    "pltdf = df.type.value_counts() #uses matlibplot to count rows for each type\n",
    "\n",
    "pltdf = pd.DataFrame({'type':pltdf.index, 'counts':pltdf.values}) #Converts the series to a dataframe\n",
    "\n",
    "pltdf2 = pltdf[:5].copy() #Put top 5 types in a new dataframe\n",
    "\n",
    "\n",
    "# Takes the less common types and adds those counts into a value named others.\n",
    "new_row = pd.DataFrame(data = {\n",
    "    'type' : ['others'],\n",
    "    'counts' : [pltdf['counts'][5:].sum()]\n",
    "})\n",
    "\n",
    "\n",
    "pltdf2 = pd.concat([pltdf2, new_row]) #Add the 'others' value to the top 5 dataframe\n",
    "\n",
    "#https://matplotlib.org/gallery/pie_and_polar_charts/pie_and_donut_labels.html\n",
    "#https://matplotlib.org/3.1.1/tutorials/introductory/pyplot.html\n",
    "#http://queirozf.com/entries/pandas-dataframe-plot-examples-with-matplotlib-pyplot\n",
    "\n",
    "\n",
    "#plot the types\n",
    "pltdf2.plot(y='counts', kind='pie', labels=pltdf2.type, legend=False)\n",
    "plt.ylabel('') #Gets rid of the \"Counts lable\"\n",
    "\n",
    "\n"
   ]
  },
  {
   "cell_type": "code",
   "execution_count": 10,
   "metadata": {},
   "outputs": [],
   "source": [
    "#pie chart of all the types\n",
    "#df.type.value_counts().plot(kind='pie')\n",
    "#plt.axis('equal')\n",
    "#plt.title('Number of appearances in dataset')\n"
   ]
  },
  {
   "cell_type": "markdown",
   "metadata": {},
   "source": [
    "### Create a dataframe of public assets"
   ]
  },
  {
   "cell_type": "code",
   "execution_count": 56,
   "metadata": {},
   "outputs": [
    {
     "name": "stdout",
     "output_type": "stream",
     "text": [
      "<class 'pandas.core.frame.DataFrame'>\n",
      "Int64Index: 2168 entries, 1 to 3662\n",
      "Data columns (total 26 columns):\n",
      "url                 2168 non-null object\n",
      "uid                 2168 non-null object\n",
      "public              2168 non-null object\n",
      "type                2168 non-null object\n",
      "name                2168 non-null object\n",
      "description         2168 non-null object\n",
      "visits              2168 non-null float64\n",
      "creationDate        2168 non-null object\n",
      "lastUpdateData      2168 non-null object\n",
      "category            1420 non-null object\n",
      "keywords            1416 non-null object\n",
      "downloads           2168 non-null float64\n",
      "owner               2168 non-null object\n",
      "contactEmail        554 non-null object\n",
      "license             457 non-null object\n",
      "publicationStage    2168 non-null object\n",
      "data_provided_by    788 non-null object\n",
      "periodOfTime        195 non-null object\n",
      "postingFreq         294 non-null object\n",
      "source_link         530 non-null object\n",
      "owner_uid           2168 non-null object\n",
      "source              0 non-null object\n",
      "contactName         0 non-null float64\n",
      "originator          88 non-null object\n",
      "metadataLang        49 non-null object\n",
      "allParentUid        2168 non-null object\n",
      "dtypes: float64(3), object(23)\n",
      "memory usage: 457.3+ KB\n",
      "None\n"
     ]
    }
   ],
   "source": [
    "mask = df[df['public'] == 1]\n",
    "dfpub = mask[[\"url\",\n",
    "\"uid\",\n",
    "\"public\",\n",
    "\"type\",\n",
    "\"name\",\n",
    "\"description\",\n",
    "\"visits\",\n",
    "\"creationDate\",\n",
    "\"lastUpdateData\",\n",
    "\"category\",\n",
    "\"keywords\",\n",
    "\"downloads\",\n",
    "\"owner\",\n",
    "\"contactEmail\",\n",
    "\"license\",\n",
    "\"publicationStage\",\n",
    "\"data_provided_by\",\n",
    "\"periodOfTime\",\n",
    "\"postingFreq\",\n",
    "\"source_link\",\n",
    "\"owner_uid\",\n",
    "\"source\",\n",
    "\"contactName\",\n",
    "\"originator\",\n",
    "\"metadataLang\",\n",
    "\"allParentUid\"]]\n",
    "print(dfpub.info())"
   ]
  },
  {
   "cell_type": "markdown",
   "metadata": {},
   "source": [
    "### Types of Public datasets"
   ]
  },
  {
   "cell_type": "code",
   "execution_count": 57,
   "metadata": {},
   "outputs": [
    {
     "data": {
      "text/plain": [
       "Text(0.5, 1.0, 'Public Assets')"
      ]
     },
     "execution_count": 57,
     "metadata": {},
     "output_type": "execute_result"
    },
    {
     "data": {
      "image/png": "[encoded data removed]",
      "text/plain": [
       "<Figure size 432x288 with 1 Axes>"
      ]
     },
     "metadata": {},
     "output_type": "display_data"
    }
   ],
   "source": [
    "dfpub.type.value_counts().plot(kind='pie')\n",
    "plt.axis('equal')\n",
    "plt.title('Public Assets')"
   ]
  },
  {
   "cell_type": "markdown",
   "metadata": {},
   "source": [
    "### Datasets"
   ]
  },
  {
   "cell_type": "code",
   "execution_count": 58,
   "metadata": {},
   "outputs": [
    {
     "name": "stdout",
     "output_type": "stream",
     "text": [
      "<class 'pandas.core.frame.DataFrame'>\n",
      "Int64Index: 470 entries, 18 to 3585\n",
      "Data columns (total 26 columns):\n",
      "url                 470 non-null object\n",
      "uid                 470 non-null object\n",
      "public              470 non-null object\n",
      "type                470 non-null object\n",
      "name                470 non-null object\n",
      "description         470 non-null object\n",
      "visits              470 non-null float64\n",
      "creationDate        470 non-null object\n",
      "lastUpdateData      470 non-null object\n",
      "category            334 non-null object\n",
      "keywords            332 non-null object\n",
      "downloads           470 non-null float64\n",
      "owner               470 non-null object\n",
      "contactEmail        306 non-null object\n",
      "license             150 non-null object\n",
      "publicationStage    470 non-null object\n",
      "data_provided_by    291 non-null object\n",
      "periodOfTime        131 non-null object\n",
      "postingFreq         140 non-null object\n",
      "source_link         194 non-null object\n",
      "owner_uid           470 non-null object\n",
      "source              0 non-null object\n",
      "contactName         0 non-null float64\n",
      "originator          49 non-null object\n",
      "metadataLang        24 non-null object\n",
      "allParentUid        470 non-null object\n",
      "dtypes: float64(3), object(23)\n",
      "memory usage: 99.1+ KB\n",
      "None\n"
     ]
    }
   ],
   "source": [
    "mask = df[df['type'] == 'dataset']\n",
    "mask = mask[mask['public'] == 1]\n",
    "dfpubd = mask[[\"url\",\n",
    "\"uid\",\n",
    "\"public\",\n",
    "\"type\",\n",
    "\"name\",\n",
    "\"description\",\n",
    "\"visits\",\n",
    "\"creationDate\",\n",
    "\"lastUpdateData\",\n",
    "\"category\",\n",
    "\"keywords\",\n",
    "\"downloads\",\n",
    "\"owner\",\n",
    "\"contactEmail\",\n",
    "\"license\",\n",
    "\"publicationStage\",\n",
    "\"data_provided_by\",\n",
    "\"periodOfTime\",\n",
    "\"postingFreq\",\n",
    "\"source_link\",\n",
    "\"owner_uid\",\n",
    "\"source\",\n",
    "\"contactName\",\n",
    "\"originator\",\n",
    "\"metadataLang\",\n",
    "\"allParentUid\"]]\n",
    "print(dfpubd.info())"
   ]
  },
  {
   "cell_type": "code",
   "execution_count": null,
   "metadata": {},
   "outputs": [],
   "source": []
  }
 ],
 "metadata": {
  "kernelspec": {
   "display_name": "Python 3",
   "language": "python",
   "name": "python3"
  },
  "language_info": {
   "codemirror_mode": {
    "name": "ipython",
    "version": 3
   },
   "file_extension": ".py",
   "mimetype": "text/x-python",
   "name": "python",
   "nbconvert_exporter": "python",
   "pygments_lexer": "ipython3",
   "version": "3.7.3"
  }
 },
 "nbformat": 4,
 "nbformat_minor": 2
}
