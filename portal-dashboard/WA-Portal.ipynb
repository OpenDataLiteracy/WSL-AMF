{
 "cells": [
  {
   "cell_type": "markdown",
   "metadata": {
    "extensions": {
     "jupyter_dashboards": {
      "version": 1,
      "views": {
       "grid_default": {},
       "report_default": {}
      }
     }
    }
   },
   "source": [
    "## Portal Assets Analysis\n",
    "Before importing the csv file, clean it and save as csv-utf8.\n",
    "Clean: reformat create and update date columns to be actual dates; standardize data_provided_by column as best as you can.\n",
    "Remove any 'test' datasets before importing (search 'name' and 'description' for \"test\", but look out for lead testing datasets).  Remove any gis datasets since the metadata is imported (easiest thing is to search the licenses, also all are type 'href').  This code ignores private datasets that have public derived views (like charts and maps)."
   ]
  },
  {
   "cell_type": "code",
   "execution_count": 17,
   "metadata": {
    "extensions": {
     "jupyter_dashboards": {
      "version": 1,
      "views": {
       "grid_default": {},
       "report_default": {}
      }
     }
    }
   },
   "outputs": [],
   "source": [
    "import csv\n",
    "import numpy as np\n",
    "import pandas as pd\n",
    "import os\n",
    "import matplotlib.pyplot as plt"
   ]
  },
  {
   "cell_type": "code",
   "execution_count": 18,
   "metadata": {
    "extensions": {
     "jupyter_dashboards": {
      "version": 1,
      "views": {
       "grid_default": {},
       "report_default": {}
      }
     }
    }
   },
   "outputs": [],
   "source": [
    "#This shows your working directory:\n",
    "#os.getcwd()\n",
    "\n",
    "#Read the csv into a dataframe. If your path name has a folder starting with 'u', you'll need double '\\'\n",
    "df = pd.read_csv('Documents\\\\UW\\\\ODL\\\\code\\\\asset24june.csv')\n",
    "\n",
    "\n",
    "#print(df.info())  # check the data frame info\n",
    "#df.head()  #Check the first five rows of data"
   ]
  },
  {
   "cell_type": "markdown",
   "metadata": {
    "extensions": {
     "jupyter_dashboards": {
      "version": 1,
      "views": {
       "grid_default": {},
       "report_default": {}
      }
     }
    }
   },
   "source": [
    "### Rename Columns\n",
    "Replaces column names in place"
   ]
  },
  {
   "cell_type": "code",
   "execution_count": 19,
   "metadata": {
    "extensions": {
     "jupyter_dashboards": {
      "version": 1,
      "views": {
       "grid_default": {},
       "report_default": {}
      }
     }
    }
   },
   "outputs": [],
   "source": [
    "df.rename({\"URL\": \"url\",\n",
    "\"U ID\": \"uid\",\n",
    "\"Public\": \"public\",\n",
    "\"Derived View\": \"derived\",\n",
    "\"Parent UID\": \"parentUid\",\n",
    "\"Domain\": \"domain\",\n",
    "\"Type\": \"type\",\n",
    "\"Name\": \"name\",\n",
    "\"Description\": \"description\",\n",
    "\"Visits\": \"visits\",\n",
    "\"Creation Date\": \"creationDate\",\n",
    "\"Last Update Date (data)\": \"lastUpdateData\",\n",
    "\"Category\": \"category\",\n",
    "\"Keywords\": \"keywords\",\n",
    "\"Downloads\": \"downloads\",\n",
    "\"Owner\": \"owner\",\n",
    "\"Contact Email\": \"contactEmail\",\n",
    "\"License\": \"license\",\n",
    "\"Publication Stage\": \"publicationStage\",\n",
    "\"Published Version Name\": \"publishedVersionName\",\n",
    "\"Published Version UID\": \"publishedVersionUid\",\n",
    "\"data_provided_by\": \"data_provided_by\",\n",
    "\"3\": \"notes3\",\n",
    "\"Period of Time\": \"periodOfTime\",\n",
    "\"4\": \"notes4\",\n",
    "\"Publishing Department\": \"publishingDepartment\",\n",
    "\"routing_approval\": \"routing_approval\",\n",
    "\"6\": \"notes6\",\n",
    "\"api_endpoint\": \"api_endpoint\",\n",
    "\"5\": \"notes5\",\n",
    "\"2\": \"notes2\",\n",
    "\"Posting Frequency\": \"postingFreq\",\n",
    "\"1\": \"notes1\",\n",
    "\"source_link\": \"source_link\",\n",
    "\"owner_uid\": \"owner_uid\",\n",
    "\"View Moderation Status\": \"viewModerationStatus\",\n",
    "\"provenance\": \"provenance\",\n",
    "\"capabilities\": \"capabilities\",\n",
    "\"supportedQueryFormats\": \"supportedQueryFormats\",\n",
    "\"htmlPopupType\": \"htmlPopupType\",\n",
    "\"copyrightText\": \"copyrightText\",\n",
    "\"geometryType\": \"geometryType\",\n",
    "\"Spatial Reference wkid\": \"spatialRefwkid\",\n",
    "\"Source\": \"source\",\n",
    "\"fields\": \"fields\",\n",
    "\"displayField\": \"displayField\",\n",
    "\"Last Update\": \"lastUpdate\",\n",
    "\"Endpoint\": \"endPoint\",\n",
    "\"Public Access Level\": \"publicAccessLevel\",\n",
    "\"Geographic Coverage\": \"geographicCoverage\",\n",
    "\"Unique Identifier\": \"uniqueIdentifier\",\n",
    "\"Publisher\": \"publisher\",\n",
    "\"Homepage\": \"homepage\",\n",
    "\"Theme\": \"theme\",\n",
    "\"Issued\": \"issued\",\n",
    "\"Contact Name\": \"contactName\",\n",
    "\"Originator\": \"originator\",\n",
    "\"Metadata Language\": \"metadataLang\",\n",
    "\"Data Definition\": \"dataDefinition\",\n",
    "\"Data Frequency\": \"dataFreq\",\n",
    "\"Data Source\": \"dataSource\",\n",
    "\"Target Rationale\": \"targetRational\",\n",
    "\"Level of Influence\": \"levelOfInfluence\",\n",
    "\"Contact Email (custom)\": \"contactEmailCustom\",\n",
    "\"Program Code\": \"programCode\",\n",
    "\"Contact Point\": \"contactPoint\",\n",
    "\"Bureau Code\": \"bureauCode\"}, axis=1, inplace=True)"
   ]
  },
  {
   "cell_type": "markdown",
   "metadata": {
    "extensions": {
     "jupyter_dashboards": {
      "version": 1,
      "views": {
       "grid_default": {},
       "report_default": {}
      }
     }
    }
   },
   "source": [
    "### Add a column showing base asset (parent asset)"
   ]
  },
  {
   "cell_type": "code",
   "execution_count": 20,
   "metadata": {
    "extensions": {
     "jupyter_dashboards": {
      "version": 1,
      "views": {
       "grid_default": {},
       "report_default": {}
      }
     }
    }
   },
   "outputs": [],
   "source": [
    "df['allParentUid'] = np.nan #Adds empty column\n",
    "\n",
    "#Tried to do it all at once, doesn't work:\n",
    "#df['allParentUid'] = df.apply(\n",
    "#    lambda row: row['uid'] if np.isnan(row['parentUid']) else row['parentUid'],\n",
    "#    axis=1\n",
    "#)\n",
    "\n",
    "df['allParentUid'].fillna(df['parentUid'], inplace=True) #This works replacing NaN with parentUid\n",
    "df.loc[(pd.isnull(df.allParentUid)), 'allParentUid'] = df.uid #This works to put all the uids into allParentUid- but is this just a copy?\n",
    "\n",
    "#df.head()"
   ]
  },
  {
   "cell_type": "markdown",
   "metadata": {
    "extensions": {
     "jupyter_dashboards": {
      "version": 1,
      "views": {
       "grid_default": {},
       "report_default": {}
      }
     }
    }
   },
   "source": [
    "### Create a dataframe for assessing metadata completeness\n",
    "Available metadata: Description, Contact Email, License, data_provided_by, source_link, Keywords, Category, Originator, Metadata Language, Period of Time\n",
    "Core Metadata: Description, Category, Provided By, License"
   ]
  },
  {
   "cell_type": "code",
   "execution_count": 8,
   "metadata": {
    "extensions": {
     "jupyter_dashboards": {
      "version": 1,
      "views": {
       "grid_default": {},
       "report_default": {}
      }
     }
    },
    "scrolled": false
   },
   "outputs": [
    {
     "data": {
      "text/plain": [
       "Text(0.5, 0, 'Number of core metadata elements')"
      ]
     },
     "execution_count": 8,
     "metadata": {},
     "output_type": "execute_result"
    },
    {
     "data": {
      "image/png": "[encoded data removed]",
      "text/plain": [
       "<Figure size 432x288 with 1 Axes>"
      ]
     },
     "metadata": {
      "needs_background": "light"
     },
     "output_type": "display_data"
    },
    {
     "data": {
      "image/png": "[encoded data removed]",
      "text/plain": [
       "<Figure size 432x288 with 1 Axes>"
      ]
     },
     "metadata": {
      "needs_background": "light"
     },
     "output_type": "display_data"
    }
   ],
   "source": [
    "#Available metadata dataframe of public datasets\n",
    "metadf = df[df['type'] == 'dataset']\n",
    "metadf = metadf[metadf['public'] == 1]\n",
    "metadf = metadf[[\"uid\",\n",
    "\"description\",\n",
    "\"category\",\n",
    "\"keywords\",\n",
    "\"contactEmail\",\n",
    "\"license\",\n",
    "\"data_provided_by\",\n",
    "\"periodOfTime\",\n",
    "\"postingFreq\",\n",
    "\"originator\"]]\n",
    "\n",
    "#Count number of available metadata fields filled (not NaN)(and subtract the uid)\n",
    "ametadf = metadf.count(axis='columns')-1\n",
    "ametadf = pd.DataFrame({'origIndex':ametadf.index, 'counts':ametadf.values}) #Converts the series to a dataframe\n",
    "\n",
    "ametadf = ametadf.counts.value_counts() #uses matlibplot to count rows for each count\n",
    "\n",
    "ametadf = pd.DataFrame({'numElements':ametadf.index, 'counts':ametadf.values}) #Converts the series to a dataframe\n",
    "ametadf = ametadf.sort_values('numElements',ascending=True) #sort the rows\n",
    "\n",
    "#plot the counts\n",
    "ametadf.plot(y='counts', kind='bar', x='numElements', legend=False, title='Available elements out of 10')\n",
    "plt.ylabel('Number of public datasets') #Gets rid of the \"Counts lable\"\n",
    "plt.xlabel('Number of available metadata elements')\n",
    "\n",
    "\n",
    "#Core Metadata DataFrame\n",
    "cmetadf = metadf[[\"uid\",\n",
    "\"description\",\n",
    "\"category\",\n",
    "\"license\",\n",
    "\"data_provided_by\"]]\n",
    "\n",
    "#Count number of core metadata elements filled (not NaN)(and subtract the uid)\n",
    "cmetadf = cmetadf.count(axis='columns')-1\n",
    "cmetadf = pd.DataFrame({'origIndex':cmetadf.index, 'counts':cmetadf.values}) #Converts the series to a dataframe\n",
    "\n",
    "cmetadf = cmetadf.counts.value_counts() #uses matlibplot to count rows for each count\n",
    "\n",
    "cmetadf = pd.DataFrame({'numElements':cmetadf.index, 'counts':cmetadf.values}) #Converts the series to a dataframe\n",
    "cmetadf = cmetadf.sort_values('numElements',ascending=True) #sort the rows\n",
    "\n",
    "#plot the counts\n",
    "cmetadf.plot(y='counts', kind='bar', x='numElements', legend=False, title='Core elements out of 4')\n",
    "plt.ylabel('Number of public datasets') #Gets rid of the \"Counts lable\"\n",
    "plt.xlabel('Number of core metadata elements')\n",
    "\n"
   ]
  },
  {
   "cell_type": "markdown",
   "metadata": {
    "extensions": {
     "jupyter_dashboards": {
      "version": 1,
      "views": {
       "grid_default": {},
       "report_default": {}
      }
     }
    }
   },
   "source": [
    "### Fill NaN vlaues in 'description' with 'null' to allow indexing"
   ]
  },
  {
   "cell_type": "code",
   "execution_count": 21,
   "metadata": {
    "extensions": {
     "jupyter_dashboards": {
      "version": 1,
      "views": {
       "grid_default": {},
       "report_default": {}
      }
     }
    }
   },
   "outputs": [],
   "source": [
    "df['description'].fillna('null', inplace=True)"
   ]
  },
  {
   "cell_type": "markdown",
   "metadata": {
    "extensions": {
     "jupyter_dashboards": {
      "version": 1,
      "views": {
       "grid_default": {},
       "report_default": {}
      }
     }
    }
   },
   "source": [
    "### Plot the top five types of datasets and include an 'others' type as well"
   ]
  },
  {
   "cell_type": "code",
   "execution_count": 22,
   "metadata": {
    "extensions": {
     "jupyter_dashboards": {
      "version": 1,
      "views": {
       "grid_default": {},
       "report_default": {}
      }
     }
    }
   },
   "outputs": [
    {
     "data": {
      "text/plain": [
       "Text(0, 0.5, '')"
      ]
     },
     "execution_count": 22,
     "metadata": {},
     "output_type": "execute_result"
    },
    {
     "data": {
      "image/png": "[encoded data removed]",
      "text/plain": [
       "<Figure size 432x288 with 1 Axes>"
      ]
     },
     "metadata": {},
     "output_type": "display_data"
    }
   ],
   "source": [
    "pltdf = df.type.value_counts() #uses matlibplot to count rows for each type\n",
    "\n",
    "pltdf = pd.DataFrame({'type':pltdf.index, 'counts':pltdf.values}) #Converts the series to a dataframe\n",
    "\n",
    "pltdf2 = pltdf[:5].copy() #Put top 5 types in a new dataframe\n",
    "\n",
    "\n",
    "# Takes the less common types and adds those counts into a value named others.\n",
    "new_row = pd.DataFrame(data = {\n",
    "    'type' : ['others'],\n",
    "    'counts' : [pltdf['counts'][5:].sum()]\n",
    "})\n",
    "\n",
    "\n",
    "pltdf2 = pd.concat([pltdf2, new_row]) #Add the 'others' value to the top 5 dataframe\n",
    "\n",
    "#https://matplotlib.org/gallery/pie_and_polar_charts/pie_and_donut_labels.html\n",
    "#https://matplotlib.org/3.1.1/tutorials/introductory/pyplot.html\n",
    "#http://queirozf.com/entries/pandas-dataframe-plot-examples-with-matplotlib-pyplot\n",
    "\n",
    "\n",
    "#plot the types\n",
    "pltdf2.plot(y='counts', kind='pie', labels=pltdf2.type, legend=False)\n",
    "plt.ylabel('') #Gets rid of the \"Counts label\"\n"
   ]
  },
  {
   "cell_type": "code",
   "execution_count": 23,
   "metadata": {
    "extensions": {
     "jupyter_dashboards": {
      "version": 1,
      "views": {
       "grid_default": {},
       "report_default": {}
      }
     }
    }
   },
   "outputs": [],
   "source": [
    "#pie chart of all the types\n",
    "#df.type.value_counts().plot(kind='pie')\n",
    "#plt.axis('equal')\n",
    "#plt.title('Number of appearances in dataset')\n"
   ]
  },
  {
   "cell_type": "markdown",
   "metadata": {
    "extensions": {
     "jupyter_dashboards": {
      "version": 1,
      "views": {
       "grid_default": {},
       "report_default": {}
      }
     }
    }
   },
   "source": [
    "### Create a dataframe of public assets"
   ]
  },
  {
   "cell_type": "code",
   "execution_count": 24,
   "metadata": {
    "extensions": {
     "jupyter_dashboards": {
      "version": 1,
      "views": {
       "grid_default": {},
       "report_default": {}
      }
     }
    }
   },
   "outputs": [
    {
     "name": "stdout",
     "output_type": "stream",
     "text": [
      "<class 'pandas.core.frame.DataFrame'>\n",
      "Int64Index: 2168 entries, 1 to 3662\n",
      "Data columns (total 26 columns):\n",
      "url                 2168 non-null object\n",
      "uid                 2168 non-null object\n",
      "public              2168 non-null object\n",
      "type                2168 non-null object\n",
      "name                2168 non-null object\n",
      "description         2168 non-null object\n",
      "visits              2168 non-null float64\n",
      "creationDate        2168 non-null object\n",
      "lastUpdateData      2168 non-null object\n",
      "category            1420 non-null object\n",
      "keywords            1416 non-null object\n",
      "downloads           2168 non-null float64\n",
      "owner               2168 non-null object\n",
      "contactEmail        554 non-null object\n",
      "license             457 non-null object\n",
      "publicationStage    2168 non-null object\n",
      "data_provided_by    788 non-null object\n",
      "periodOfTime        195 non-null object\n",
      "postingFreq         294 non-null object\n",
      "source_link         530 non-null object\n",
      "owner_uid           2168 non-null object\n",
      "source              0 non-null object\n",
      "contactName         0 non-null float64\n",
      "originator          88 non-null object\n",
      "metadataLang        49 non-null object\n",
      "allParentUid        2168 non-null object\n",
      "dtypes: float64(3), object(23)\n",
      "memory usage: 457.3+ KB\n",
      "None\n"
     ]
    }
   ],
   "source": [
    "mask = df[df['public'] == 1]\n",
    "dfpub = mask[[\"url\",\n",
    "\"uid\",\n",
    "\"public\",\n",
    "\"type\",\n",
    "\"name\",\n",
    "\"description\",\n",
    "\"visits\",\n",
    "\"creationDate\",\n",
    "\"lastUpdateData\",\n",
    "\"category\",\n",
    "\"keywords\",\n",
    "\"downloads\",\n",
    "\"owner\",\n",
    "\"contactEmail\",\n",
    "\"license\",\n",
    "\"publicationStage\",\n",
    "\"data_provided_by\",\n",
    "\"periodOfTime\",\n",
    "\"postingFreq\",\n",
    "\"source_link\",\n",
    "\"owner_uid\",\n",
    "\"source\",\n",
    "\"contactName\",\n",
    "\"originator\",\n",
    "\"metadataLang\",\n",
    "\"allParentUid\"]]\n",
    "print(dfpub.info())"
   ]
  },
  {
   "cell_type": "markdown",
   "metadata": {
    "extensions": {
     "jupyter_dashboards": {
      "version": 1,
      "views": {
       "grid_default": {},
       "report_default": {}
      }
     }
    }
   },
   "source": [
    "### Types of Public assets"
   ]
  },
  {
   "cell_type": "code",
   "execution_count": 25,
   "metadata": {
    "extensions": {
     "jupyter_dashboards": {
      "version": 1,
      "views": {
       "grid_default": {},
       "report_default": {}
      }
     }
    }
   },
   "outputs": [
    {
     "data": {
      "text/plain": [
       "Text(0, 0.5, '')"
      ]
     },
     "execution_count": 25,
     "metadata": {},
     "output_type": "execute_result"
    },
    {
     "data": {
      "image/png": "[encoded data removed]",
      "text/plain": [
       "<Figure size 432x288 with 1 Axes>"
      ]
     },
     "metadata": {},
     "output_type": "display_data"
    }
   ],
   "source": [
    "pltdfpub = dfpub.type.value_counts() #uses matlibplot to count rows for each type\n",
    "\n",
    "pltdfpub = pd.DataFrame({'type':pltdfpub.index, 'counts':pltdfpub.values}) #Converts the series to a dataframe\n",
    "\n",
    "pltdfpub2 = pltdfpub[:5].copy() #Put top 5 types in a new dataframe\n",
    "\n",
    "\n",
    "# Takes the less common types and adds those counts into a value named others.\n",
    "new_row = pd.DataFrame(data = {\n",
    "    'type' : ['others'],\n",
    "    'counts' : [pltdfpub['counts'][5:].sum()]\n",
    "})\n",
    "\n",
    "\n",
    "pltdfpub2 = pd.concat([pltdfpub2, new_row]) #Add the 'others' value to the top 5 dataframe\n",
    "\n",
    "\n",
    "#plot the types\n",
    "pltdfpub2.plot(y='counts', kind='pie', labels=pltdfpub2.type, legend=False)\n",
    "plt.ylabel('') #Gets rid of the \"Counts label\""
   ]
  },
  {
   "cell_type": "markdown",
   "metadata": {
    "extensions": {
     "jupyter_dashboards": {
      "version": 1,
      "views": {
       "grid_default": {},
       "report_default": {}
      }
     }
    }
   },
   "source": [
    "### Public Datasets"
   ]
  },
  {
   "cell_type": "code",
   "execution_count": 26,
   "metadata": {
    "extensions": {
     "jupyter_dashboards": {
      "version": 1,
      "views": {
       "grid_default": {},
       "report_default": {}
      }
     }
    }
   },
   "outputs": [],
   "source": [
    "mask = df[df['type'] == 'dataset']\n",
    "mask = mask[mask['public'] == 1]\n",
    "dfpubd = mask[[\"url\",\n",
    "\"uid\",\n",
    "\"public\",\n",
    "\"type\",\n",
    "\"name\",\n",
    "\"description\",\n",
    "\"visits\",\n",
    "\"creationDate\",\n",
    "\"lastUpdateData\",\n",
    "\"category\",\n",
    "\"keywords\",\n",
    "\"downloads\",\n",
    "\"owner\",\n",
    "\"contactEmail\",\n",
    "\"license\",\n",
    "\"publicationStage\",\n",
    "\"data_provided_by\",\n",
    "\"periodOfTime\",\n",
    "\"postingFreq\",\n",
    "\"source_link\",\n",
    "\"owner_uid\",\n",
    "\"source\",\n",
    "\"contactName\",\n",
    "\"originator\",\n",
    "\"metadataLang\",\n",
    "\"allParentUid\"]]\n"
   ]
  },
  {
   "cell_type": "markdown",
   "metadata": {
    "extensions": {
     "jupyter_dashboards": {
      "version": 1,
      "views": {
       "grid_default": {},
       "report_default": {}
      }
     }
    }
   },
   "source": [
    "### Public Datasets by Category"
   ]
  },
  {
   "cell_type": "code",
   "execution_count": 27,
   "metadata": {
    "extensions": {
     "jupyter_dashboards": {
      "version": 1,
      "views": {
       "grid_default": {},
       "report_default": {}
      }
     }
    }
   },
   "outputs": [
    {
     "name": "stderr",
     "output_type": "stream",
     "text": [
      "C:\\Users\\Andre\\Anaconda3\\lib\\site-packages\\pandas\\core\\generic.py:6130: SettingWithCopyWarning: \n",
      "A value is trying to be set on a copy of a slice from a DataFrame\n",
      "\n",
      "See the caveats in the documentation: http://pandas.pydata.org/pandas-docs/stable/indexing.html#indexing-view-versus-copy\n",
      "  self._update_inplace(new_data)\n"
     ]
    },
    {
     "data": {
      "text/plain": [
       "Text(0, 0.5, '')"
      ]
     },
     "execution_count": 27,
     "metadata": {},
     "output_type": "execute_result"
    },
    {
     "data": {
      "image/png": "[encoded data removed]",
      "text/plain": [
       "<Figure size 432x288 with 1 Axes>"
      ]
     },
     "metadata": {},
     "output_type": "display_data"
    }
   ],
   "source": [
    "dfpubd['category'].fillna('null', inplace=True) #Fill NaN cells with 'null'\n",
    "\n",
    "pltdfpubd = dfpubd.category.value_counts() #uses matlibplot to count rows for each type\n",
    "\n",
    "pltdfpubd = pd.DataFrame({'category':pltdfpubd.index, 'counts':pltdfpubd.values}) #Converts the series to a dataframe\n",
    "\n",
    "pltdfpubd2 = pltdfpubd[:5].copy() #Put top 5 types in a new dataframe\n",
    "\n",
    "\n",
    "# Takes the less common types and adds those counts into a value named others.\n",
    "new_row2 = pd.DataFrame(data = {\n",
    "    'category' : ['others'],\n",
    "    'counts' : [pltdfpubd['counts'][5:].sum()]\n",
    "})\n",
    "\n",
    "pltdfpubd2 = pd.concat([pltdfpubd2, new_row2]) #Add the 'others' value to the top 5 dataframe\n",
    "\n",
    "\n",
    "#plot the types\n",
    "pltdfpubd2.plot(y='counts', kind='pie', labels=pltdfpubd2.category, legend=False)\n",
    "plt.ylabel('') #Gets rid of the \"Counts label\"\n",
    "\n"
   ]
  },
  {
   "cell_type": "markdown",
   "metadata": {
    "extensions": {
     "jupyter_dashboards": {
      "version": 1,
      "views": {
       "grid_default": {},
       "report_default": {}
      }
     }
    }
   },
   "source": [
    "### Public Dataset Downloads and Visits"
   ]
  },
  {
   "cell_type": "code",
   "execution_count": 28,
   "metadata": {
    "extensions": {
     "jupyter_dashboards": {
      "version": 1,
      "views": {
       "grid_default": {},
       "report_default": {}
      }
     }
    }
   },
   "outputs": [
    {
     "data": {
      "image/png": "[encoded data removed]",
      "text/plain": [
       "<Figure size 432x288 with 1 Axes>"
      ]
     },
     "metadata": {
      "needs_background": "light"
     },
     "output_type": "display_data"
    }
   ],
   "source": [
    "\n",
    "ax = dfpubd.boxplot(column=['downloads', 'visits'], return_type='axes', grid=False)\n",
    "\n",
    "ax.set_ylim(0, 8000)\n",
    "plt.xlabel('Downloads (Values over 8,000 not shown)')\n",
    "\n",
    "plt.show()\n",
    "\n",
    "#dfpubd['downloads'].head()\n",
    "\n",
    "#dfpubd.boxplot(column=['downloads'])"
   ]
  },
  {
   "cell_type": "code",
   "execution_count": null,
   "metadata": {
    "extensions": {
     "jupyter_dashboards": {
      "version": 1,
      "views": {
       "grid_default": {},
       "report_default": {}
      }
     }
    }
   },
   "outputs": [],
   "source": []
  }
 ],
 "metadata": {
  "extensions": {
   "jupyter_dashboards": {
    "activeView": "grid_default",
    "version": 1,
    "views": {
     "grid_default": {
      "cellMargin": 10,
      "defaultCellHeight": 20,
      "maxColumns": 12,
      "name": "grid",
      "type": "grid"
     },
     "report_default": {
      "name": "report",
      "type": "report"
     }
    }
   }
  },
  "kernelspec": {
   "display_name": "Python 3",
   "language": "python",
   "name": "python3"
  },
  "language_info": {
   "codemirror_mode": {
    "name": "ipython",
    "version": 3
   },
   "file_extension": ".py",
   "mimetype": "text/x-python",
   "name": "python",
   "nbconvert_exporter": "python",
   "pygments_lexer": "ipython3",
   "version": "3.7.3"
  }
 },
 "nbformat": 4,
 "nbformat_minor": 2
}
