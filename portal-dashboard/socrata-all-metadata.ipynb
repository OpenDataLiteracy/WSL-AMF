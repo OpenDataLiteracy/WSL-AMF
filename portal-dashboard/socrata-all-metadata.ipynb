{
 "cells": [
  {
   "cell_type": "markdown",
   "metadata": {},
   "source": [
    "# Download json records for all published datasets\n",
    "\n",
    "This should work for any socrata portal\n",
    "\n",
    "Probably need to get a token to be able to download all the data.  Right now the API call specifies the number of assets so it still works. Otherwise it only returns 100"
   ]
  },
  {
   "cell_type": "code",
   "execution_count": 8,
   "metadata": {},
   "outputs": [],
   "source": [
    "#import the required libraries\n",
    "import csv\n",
    "import requests\n",
    "import json as json\n",
    "import datetime\n",
    "import numpy as np\n",
    "import pandas as pd\n",
    "import matplotlib.pyplot as plt\n",
    "import seaborn as sns"
   ]
  },
  {
   "cell_type": "markdown",
   "metadata": {},
   "source": [
    "## Set up the code for your portal of interest"
   ]
  },
  {
   "cell_type": "code",
   "execution_count": 9,
   "metadata": {},
   "outputs": [],
   "source": [
    "targeturl='https://data.wa.gov/' #change this to the SOCRATA portal you want to target, don't forget ending /\n",
    "domain='data.wa.gov' \n",
    "descriptor='WA'   #change this to a recognizable descriptor for yourself- used in csv filename\n"
   ]
  },
  {
   "cell_type": "markdown",
   "metadata": {},
   "source": [
    "### Create Dictionary json records\n",
    "Use the Socrata API to get ALL metadata for the public assets"
   ]
  },
  {
   "cell_type": "code",
   "execution_count": 10,
   "metadata": {},
   "outputs": [],
   "source": [
    "r=requests.get('http://api.us.socrata.com/api/catalog/v1?limit=2653&domains='+domain) #build string according to SOCRATA's convention to get public data assets\n",
    "#r=requests.get('http://api.us.socrata.com/api/catalog/v1?domains='+domain) #build string according to SOCRATA's convention to get public data assets\n",
    "j=json.loads(r.text) #parse the json into a list named j\n"
   ]
  },
  {
   "cell_type": "markdown",
   "metadata": {},
   "source": [
    "### Save the json to a file so you don't have to keep downloading it everytime."
   ]
  },
  {
   "cell_type": "code",
   "execution_count": 14,
   "metadata": {},
   "outputs": [],
   "source": [
    "#j[0] #view the first record\n",
    "with open(\"fullWA23July.json\", \"w\") as write_file:\n",
    "    json.dump(j, write_file)"
   ]
  },
  {
   "cell_type": "code",
   "execution_count": 15,
   "metadata": {},
   "outputs": [],
   "source": [
    "#Open up the same file for reading\n",
    "with open(\"fullWA23July.json\", \"r\") as read_file:\n",
    "    d = json.load(read_file)"
   ]
  },
  {
   "cell_type": "markdown",
   "metadata": {},
   "source": [
    "### Test Pit\n",
    "\n",
    "Ignore this block.  Use it to test out things or store bits of unused code"
   ]
  },
  {
   "cell_type": "code",
   "execution_count": 49,
   "metadata": {},
   "outputs": [
    {
     "name": "stdout",
     "output_type": "stream",
     "text": [
      "dataset\n"
     ]
    }
   ],
   "source": [
    "#The indexes for i (below) are much more limited than the indexes for j\n",
    "#test=[] #test list to fill\n",
    "\n",
    "#for c in d:\n",
    "#    #for x in c:\n",
    "#        if c.get('format') == 'text/csv':\n",
    "#            t = c.get('identifier')\n",
    "#            test.append(t)\n",
    "#            #print(c.get('format'))\n",
    "#test.sort()\n",
    "#print(test[0:20])\n",
    "\n",
    "\n",
    "#print(len(test))\n",
    "#j['results'][0]['resource'].keys() #Shows keys\n",
    "#type(j['identifier'])\n",
    "#print(j[0]['format'])\n",
    "#print(j['results'][0]['resource']['type'])\n",
    "#df = pd.DataFrame(j['']) "
   ]
  },
  {
   "cell_type": "markdown",
   "metadata": {},
   "source": [
    "## Look at Types of Assets and Categories"
   ]
  },
  {
   "cell_type": "markdown",
   "metadata": {},
   "source": [
    "### Types for All Assets"
   ]
  },
  {
   "cell_type": "code",
   "execution_count": 16,
   "metadata": {},
   "outputs": [
    {
     "name": "stdout",
     "output_type": "stream",
     "text": [
      "List built: 2653 elements\n"
     ]
    }
   ],
   "source": [
    "#Set up a list of all the types\n",
    "\n",
    "typelist=[] #dim list as a empty list\n",
    "\n",
    "for c in d['results']:  #j is the dictionary of parsed json\n",
    "        if len(c['resource']['id'])==9: #Basically, is the identifier legitimate?\n",
    "            typelist.append(c['resource']['type'])\n",
    "\n",
    "print(\"List built:\", len(typelist),\"elements\") #print how many elements are in dtlist\n"
   ]
  },
  {
   "cell_type": "code",
   "execution_count": 17,
   "metadata": {},
   "outputs": [
    {
     "data": {
      "text/html": [
       "<div>\n",
       "<style scoped>\n",
       "    .dataframe tbody tr th:only-of-type {\n",
       "        vertical-align: middle;\n",
       "    }\n",
       "\n",
       "    .dataframe tbody tr th {\n",
       "        vertical-align: top;\n",
       "    }\n",
       "\n",
       "    .dataframe thead th {\n",
       "        text-align: right;\n",
       "    }\n",
       "</style>\n",
       "<table border=\"1\" class=\"dataframe\">\n",
       "  <thead>\n",
       "    <tr style=\"text-align: right;\">\n",
       "      <th></th>\n",
       "      <th>type</th>\n",
       "    </tr>\n",
       "  </thead>\n",
       "  <tbody>\n",
       "    <tr>\n",
       "      <th>0</th>\n",
       "      <td>dataset</td>\n",
       "    </tr>\n",
       "    <tr>\n",
       "      <th>1</th>\n",
       "      <td>map</td>\n",
       "    </tr>\n",
       "    <tr>\n",
       "      <th>2</th>\n",
       "      <td>map</td>\n",
       "    </tr>\n",
       "    <tr>\n",
       "      <th>3</th>\n",
       "      <td>dataset</td>\n",
       "    </tr>\n",
       "    <tr>\n",
       "      <th>4</th>\n",
       "      <td>dataset</td>\n",
       "    </tr>\n",
       "  </tbody>\n",
       "</table>\n",
       "</div>"
      ],
      "text/plain": [
       "      type\n",
       "0  dataset\n",
       "1      map\n",
       "2      map\n",
       "3  dataset\n",
       "4  dataset"
      ]
     },
     "execution_count": 17,
     "metadata": {},
     "output_type": "execute_result"
    }
   ],
   "source": [
    "#Convert the dictionary to a dataframe\n",
    "dftype = pd.DataFrame(typelist, columns=['type'])\n",
    "dftype.head()"
   ]
  },
  {
   "cell_type": "code",
   "execution_count": 18,
   "metadata": {},
   "outputs": [
    {
     "data": {
      "text/plain": [
       "Text(0, 0.5, '')"
      ]
     },
     "execution_count": 18,
     "metadata": {},
     "output_type": "execute_result"
    },
    {
     "data": {
      "image/png": "[encoded data removed]",
      "text/plain": [
       "<Figure size 432x288 with 1 Axes>"
      ]
     },
     "metadata": {},
     "output_type": "display_data"
    }
   ],
   "source": [
    "#Create a pie chart\n",
    "\n",
    "pltdf = dftype.type.value_counts() #uses matlibplot to count rows for each type\n",
    "\n",
    "pltdf = pd.DataFrame({'type':pltdf.index, 'counts':pltdf.values}) #Converts the series to a dataframe\n",
    "\n",
    "pltdf2 = pltdf[:5].copy() #Put top 5 types in a new dataframe\n",
    "\n",
    "\n",
    "# Takes the less common types and adds those counts into a value named others.\n",
    "new_row = pd.DataFrame(data = {\n",
    "    'type' : ['others'],\n",
    "    'counts' : [pltdf['counts'][5:].sum()]\n",
    "})\n",
    "\n",
    "\n",
    "pltdf2 = pd.concat([pltdf2, new_row]) #Add the 'others' value to the top 5 dataframe\n",
    "\n",
    "#https://matplotlib.org/gallery/pie_and_polar_charts/pie_and_donut_labels.html\n",
    "#https://matplotlib.org/3.1.1/tutorials/introductory/pyplot.html\n",
    "#http://queirozf.com/entries/pandas-dataframe-plot-examples-with-matplotlib-pyplot\n",
    "\n",
    "\n",
    "#plot the types\n",
    "pltdf2.plot(y='counts', kind='pie', labels=pltdf2.type, legend=False)\n",
    "plt.ylabel('') #Gets rid of the \"Counts label\""
   ]
  },
  {
   "cell_type": "markdown",
   "metadata": {},
   "source": [
    "### Dataframe of proportions"
   ]
  },
  {
   "cell_type": "code",
   "execution_count": 21,
   "metadata": {},
   "outputs": [
    {
     "name": "stdout",
     "output_type": "stream",
     "text": [
      "                type   percent\n",
      "dataset          894  0.336977\n",
      "chart            717  0.270260\n",
      "file             539  0.203166\n",
      "filter           233  0.087825\n",
      "map              152  0.057294\n",
      "federated_href    39  0.014700\n",
      "href              30  0.011308\n",
      "datalens          22  0.008292\n",
      "form              12  0.004523\n",
      "story              9  0.003392\n",
      "visualization      4  0.001508\n",
      "calendar           2  0.000754\n"
     ]
    }
   ],
   "source": [
    "dftypep = dftype.type.value_counts()\n",
    "dftypep = dftypep.to_frame()\n",
    "dftypep['percent'] = dftypep.type / dftypep.type.sum()\n",
    "print(dftypep)"
   ]
  },
  {
   "cell_type": "markdown",
   "metadata": {},
   "source": [
    "### Categories for All Assets"
   ]
  },
  {
   "cell_type": "code",
   "execution_count": 22,
   "metadata": {},
   "outputs": [
    {
     "name": "stdout",
     "output_type": "stream",
     "text": [
      "List built: 2653 elements\n"
     ]
    }
   ],
   "source": [
    "#Set up a list of all the types\n",
    "\n",
    "catlist=[] #dim masterlist as a empty list\n",
    "\n",
    "for i in j['results']:  #j is the dictionary of parsed json\n",
    "        if len(i['resource']['id'])==9: #Basically, is the identifier legitimate?\n",
    "            catlist.append(i['classification'].get('domain_category', 'N/A'))\n",
    "\n",
    "\n",
    "catlist.sort()\n",
    "print(\"List built:\", len(catlist),\"elements\") #print how many elements are in dtlist"
   ]
  },
  {
   "cell_type": "code",
   "execution_count": 23,
   "metadata": {},
   "outputs": [
    {
     "data": {
      "text/html": [
       "<div>\n",
       "<style scoped>\n",
       "    .dataframe tbody tr th:only-of-type {\n",
       "        vertical-align: middle;\n",
       "    }\n",
       "\n",
       "    .dataframe tbody tr th {\n",
       "        vertical-align: top;\n",
       "    }\n",
       "\n",
       "    .dataframe thead th {\n",
       "        text-align: right;\n",
       "    }\n",
       "</style>\n",
       "<table border=\"1\" class=\"dataframe\">\n",
       "  <thead>\n",
       "    <tr style=\"text-align: right;\">\n",
       "      <th></th>\n",
       "      <th>category</th>\n",
       "    </tr>\n",
       "  </thead>\n",
       "  <tbody>\n",
       "    <tr>\n",
       "      <th>0</th>\n",
       "      <td>Agriculture</td>\n",
       "    </tr>\n",
       "    <tr>\n",
       "      <th>1</th>\n",
       "      <td>Consumer Protection</td>\n",
       "    </tr>\n",
       "    <tr>\n",
       "      <th>2</th>\n",
       "      <td>Consumer Protection</td>\n",
       "    </tr>\n",
       "    <tr>\n",
       "      <th>3</th>\n",
       "      <td>Consumer Protection</td>\n",
       "    </tr>\n",
       "    <tr>\n",
       "      <th>4</th>\n",
       "      <td>Consumer Protection</td>\n",
       "    </tr>\n",
       "  </tbody>\n",
       "</table>\n",
       "</div>"
      ],
      "text/plain": [
       "              category\n",
       "0          Agriculture\n",
       "1  Consumer Protection\n",
       "2  Consumer Protection\n",
       "3  Consumer Protection\n",
       "4  Consumer Protection"
      ]
     },
     "execution_count": 23,
     "metadata": {},
     "output_type": "execute_result"
    }
   ],
   "source": [
    "#Convert the list to a dataframe\n",
    "dfcat = pd.DataFrame(catlist, columns = ['category'])\n",
    "dfcat.head()"
   ]
  },
  {
   "cell_type": "code",
   "execution_count": 24,
   "metadata": {},
   "outputs": [
    {
     "data": {
      "text/plain": [
       "Text(0, 0.5, '')"
      ]
     },
     "execution_count": 24,
     "metadata": {},
     "output_type": "execute_result"
    },
    {
     "data": {
      "image/png": "[encoded data removed]",
      "text/plain": [
       "<Figure size 432x288 with 1 Axes>"
      ]
     },
     "metadata": {},
     "output_type": "display_data"
    }
   ],
   "source": [
    "#Create a pie chart\n",
    "\n",
    "pltdf = dfcat.category.value_counts() #uses matlibplot to count rows for each type\n",
    "\n",
    "pltdf = pd.DataFrame({'category':pltdf.index, 'counts':pltdf.values}) #Converts the series to a dataframe\n",
    "\n",
    "pltdf2 = pltdf[:5].copy() #Put top 5 types in a new dataframe\n",
    "\n",
    "\n",
    "# Takes the less common types and adds those counts into a value named others.\n",
    "new_row = pd.DataFrame(data = {\n",
    "    'category' : ['others'],\n",
    "    'counts' : [pltdf['counts'][5:].sum()]\n",
    "})\n",
    "\n",
    "\n",
    "pltdf2 = pd.concat([pltdf2, new_row]) #Add the 'others' value to the top 5 dataframe\n",
    "\n",
    "#https://matplotlib.org/gallery/pie_and_polar_charts/pie_and_donut_labels.html\n",
    "#https://matplotlib.org/3.1.1/tutorials/introductory/pyplot.html\n",
    "#http://queirozf.com/entries/pandas-dataframe-plot-examples-with-matplotlib-pyplot\n",
    "\n",
    "\n",
    "#plot the types\n",
    "pltdf2.plot(y='counts', kind='pie', labels=pltdf2.category, legend=False)\n",
    "plt.ylabel('') #Gets rid of the \"Counts label\""
   ]
  },
  {
   "cell_type": "markdown",
   "metadata": {},
   "source": [
    "### Dataframe of proportions"
   ]
  },
  {
   "cell_type": "code",
   "execution_count": 25,
   "metadata": {},
   "outputs": [
    {
     "name": "stdout",
     "output_type": "stream",
     "text": [
      "                                 category   percent\n",
      "N/A                                   799  0.301168\n",
      "Health                                651  0.245383\n",
      "Education                             486  0.183189\n",
      "Natural Resources & Environment       413  0.155673\n",
      "Demographics                           59  0.022239\n",
      "Economics                              53  0.019977\n",
      "Public Safety                          41  0.015454\n",
      "Politics                               35  0.013193\n",
      "Procurements and Contracts             33  0.012439\n",
      "Labor                                  32  0.012062\n",
      "Consumer Protection                    26  0.009800\n",
      "Transportation                         10  0.003769\n",
      "Recreation                              8  0.003015\n",
      "Employment                              6  0.002262\n",
      "Agriculture                             1  0.000377\n"
     ]
    }
   ],
   "source": [
    "dfcatp = dfcat.category.value_counts()\n",
    "dfcatp = dfcatp.to_frame()\n",
    "dfcatp['percent'] = dfcatp.category / dfcatp.category.sum()\n",
    "print(dfcatp)"
   ]
  },
  {
   "cell_type": "code",
   "execution_count": 26,
   "metadata": {},
   "outputs": [
    {
     "name": "stdout",
     "output_type": "stream",
     "text": [
      "List built: 2653 download counts\n",
      "List built: 2653 view counts\n"
     ]
    }
   ],
   "source": [
    "downl = []\n",
    "views=[]\n",
    "\n",
    "for i in j['results']:  #j is the dictionary of parsed json\n",
    "        if len(i['resource']['id'])==9: #Basically, is the identifier legitimate?\n",
    "            downl.append(i['resource']['download_count'])\n",
    "\n",
    "for i in j['results']:  #j is the dictionary of parsed json\n",
    "        if len(i['resource']['id'])==9: #Basically, is the identifier legitimate?\n",
    "            views.append(i['resource']['page_views']['page_views_total'])  \n",
    "\n",
    "print(\"List built:\", len(downl),\"download counts\") #print how many elements are in dtlist\n",
    "print(\"List built:\", len(views),\"view counts\") #print how many elements are in dtlist            \n",
    "\n",
    "dfuse = pd.DataFrame([downl,views,typelist]).T #build a dataframe with both lists and the category list\n",
    "dfuse.columns =['downloads','pageviews','type']"
   ]
  },
  {
   "cell_type": "code",
   "execution_count": 34,
   "metadata": {},
   "outputs": [],
   "source": [
    "# dfuse dataframe may need an index column to work with box plots better!!!\n",
    "#d['results'][0]"
   ]
  },
  {
   "cell_type": "code",
   "execution_count": 27,
   "metadata": {},
   "outputs": [
    {
     "data": {
      "text/plain": [
       "Text(0.5, 0.98, '')"
      ]
     },
     "execution_count": 27,
     "metadata": {},
     "output_type": "execute_result"
    },
    {
     "data": {
      "image/png": "[encoded data removed]",
      "text/plain": [
       "<Figure size 432x288 with 1 Axes>"
      ]
     },
     "metadata": {
      "needs_background": "light"
     },
     "output_type": "display_data"
    },
    {
     "data": {
      "image/png": "[encoded data removed]",
      "text/plain": [
       "<Figure size 432x288 with 1 Axes>"
      ]
     },
     "metadata": {
      "needs_background": "light"
     },
     "output_type": "display_data"
    }
   ],
   "source": [
    "dfuse.boxplot(by = ['type'], column=['downloads'], grid=False)\n",
    "plt.ylim(0,8000)\n",
    "plt.xticks(rotation=90)\n",
    "plt.title('Number of Downloads (values>8,000 not shown)')\n",
    "plt.suptitle(\"\")\n",
    "\n",
    "dfuse.boxplot(by = ['type'], column=['pageviews'], grid=False)\n",
    "plt.ylim(0,8000)\n",
    "plt.xticks(rotation=90)\n",
    "plt.title('Number of Page Views (values>8,000 not shown)')\n",
    "plt.suptitle(\"\")"
   ]
  },
  {
   "cell_type": "markdown",
   "metadata": {},
   "source": [
    "### downloads vs views"
   ]
  },
  {
   "cell_type": "code",
   "execution_count": 115,
   "metadata": {},
   "outputs": [
    {
     "data": {
      "text/plain": [
       "<matplotlib.axes._subplots.AxesSubplot at 0x1e63edb1da0>"
      ]
     },
     "execution_count": 115,
     "metadata": {},
     "output_type": "execute_result"
    },
    {
     "data": {
      "image/png": "[encoded data removed]",
      "text/plain": [
       "<Figure size 432x288 with 1 Axes>"
      ]
     },
     "metadata": {
      "needs_background": "light"
     },
     "output_type": "display_data"
    }
   ],
   "source": [
    "#Calculate logs for downloads and views, only use where use is greater than 0\n",
    "dfusenum['downloads'] = pd.to_numeric(dfusenum['downloads'])\n",
    "dfusenum['pageviews'] = pd.to_numeric(dfusenum['pageviews'])\n",
    "dfusedataset = dfusenum[dfuse['type']=='dataset']\n",
    "dfusedataset = dfusenum[dfuse.downloads > 0]\n",
    "dfusedataset['lpageviews'] = np.log(dfusedataset.pageviews)\n",
    "dfusedataset['ldownloads'] = np.log(dfusedataset.downloads)\n",
    "sns.scatterplot('lpageviews', # Horizontal axis\n",
    "           'ldownloads', # Vertical axis\n",
    "           data=dfusedataset)\n",
    "\n"
   ]
  },
  {
   "cell_type": "markdown",
   "metadata": {},
   "source": [
    "### Create a list of all the uids that are datasets"
   ]
  },
  {
   "cell_type": "code",
   "execution_count": 31,
   "metadata": {},
   "outputs": [
    {
     "ename": "TypeError",
     "evalue": "string indices must be integers",
     "output_type": "error",
     "traceback": [
      "\u001b[1;31m---------------------------------------------------------------------------\u001b[0m",
      "\u001b[1;31mTypeError\u001b[0m                                 Traceback (most recent call last)",
      "\u001b[1;32m<ipython-input-31-040f22262106>\u001b[0m in \u001b[0;36m<module>\u001b[1;34m\u001b[0m\n\u001b[0;32m      2\u001b[0m \u001b[1;33m\u001b[0m\u001b[0m\n\u001b[0;32m      3\u001b[0m \u001b[1;32mfor\u001b[0m \u001b[0mc\u001b[0m \u001b[1;32min\u001b[0m \u001b[0md\u001b[0m\u001b[1;33m:\u001b[0m  \u001b[1;31m#d is the dictionary of parsed json\u001b[0m\u001b[1;33m\u001b[0m\u001b[1;33m\u001b[0m\u001b[0m\n\u001b[1;32m----> 4\u001b[1;33m         \u001b[1;32mif\u001b[0m \u001b[0mlen\u001b[0m\u001b[1;33m(\u001b[0m\u001b[0mc\u001b[0m\u001b[1;33m[\u001b[0m\u001b[1;34m'identifier'\u001b[0m\u001b[1;33m]\u001b[0m\u001b[1;33m)\u001b[0m\u001b[1;33m==\u001b[0m\u001b[1;36m9\u001b[0m\u001b[1;33m:\u001b[0m \u001b[1;31m#Basically, is the identifier legitimate?\u001b[0m\u001b[1;33m\u001b[0m\u001b[1;33m\u001b[0m\u001b[0m\n\u001b[0m\u001b[0;32m      5\u001b[0m             \u001b[1;32mif\u001b[0m \u001b[0mc\u001b[0m\u001b[1;33m.\u001b[0m\u001b[0mget\u001b[0m\u001b[1;33m(\u001b[0m\u001b[1;34m'format'\u001b[0m\u001b[1;33m)\u001b[0m\u001b[1;33m==\u001b[0m\u001b[1;34m'text/csv'\u001b[0m\u001b[1;33m:\u001b[0m  \u001b[1;31m#select only datasets (not pdfs or external links)\u001b[0m\u001b[1;33m\u001b[0m\u001b[1;33m\u001b[0m\u001b[0m\n\u001b[0;32m      6\u001b[0m                 \u001b[0muid\u001b[0m\u001b[1;33m=\u001b[0m\u001b[0mc\u001b[0m\u001b[1;33m[\u001b[0m\u001b[1;34m'identifier'\u001b[0m\u001b[1;33m]\u001b[0m\u001b[1;33m\u001b[0m\u001b[1;33m\u001b[0m\u001b[0m\n",
      "\u001b[1;31mTypeError\u001b[0m: string indices must be integers"
     ]
    }
   ],
   "source": [
    "dtlist=[] #dim masterlist as a empty list\n",
    "\n",
    "for c in d:  #d is the dictionary of parsed json\n",
    "        if len(c['resource']['id'])==9: #Basically, is the identifier legitimate?\n",
    "            if c.get('format')=='text/csv':  #select only datasets (not pdfs or external links)\n",
    "                uid=c['identifier']\n",
    "                dtlist.append(uid)\n",
    "\n",
    "\n",
    "dtlist.sort()\n",
    "print(\"List built:\", len(dtlist),\"elements\") #print how many elements are in dtlist\n",
    "#print(fulllist[0:100]) See the first hundred if you want to check"
   ]
  },
  {
   "cell_type": "markdown",
   "metadata": {},
   "source": [
    "### If you want to see the list of urls for metadata, run this code"
   ]
  },
  {
   "cell_type": "code",
   "execution_count": 37,
   "metadata": {},
   "outputs": [],
   "source": [
    "for m in dtlist:\n",
    "    print(targeturl+'views/'+m+'.json') #build string according to SOCRATA's convention\n"
   ]
  },
  {
   "cell_type": "markdown",
   "metadata": {},
   "source": [
    "## Create a csv of the metadata\n",
    "\n",
    "Basic order of operations:\n",
    "Set up csv file with titles\n",
    "For loop to cycle through masterlist of dataset ids from above\n",
    "\n",
    "    Retrieve json file\n",
    "    Count the number of columns\n",
    "    Count the number of non empty column desctiptions\n",
    "    Write elements to csv file, convert the dates, and tack on the two count values\n",
    "\n",
    "Here are the columns: 'id','name','description','category','downloadCount','viewCount','licenseId','publicationDate','rowsUpdateAt','tags','rowLabel','numberColumns','numColumnDescriptions'"
   ]
  },
  {
   "cell_type": "code",
   "execution_count": 18,
   "metadata": {
    "scrolled": true
   },
   "outputs": [
    {
     "name": "stdout",
     "output_type": "stream",
     "text": [
      "604 of 604 rows written, 0 remaining\n"
     ]
    }
   ],
   "source": [
    "metadata=open(descriptor+' - METADATA.csv', 'w', newline='')\n",
    "csv.writer(metadata).writerow(['id','name','description','category','downloadCount','viewCount','licenseId','publicationDate','rowsUpdateAt','tags'])\n",
    "\n",
    "metadata=open(descriptor+' - METADATA.csv', 'w', newline='')\n",
    "csv.writer(metadata).writerow(['id','name','description','category','downloadCount','viewCount','licenseId','publicationDate','rowsUpdateAt','tags','rowLabel','numberColumns','numColumnDescriptions'])\n",
    "for s in dtlist:\n",
    "    s=requests.get(targeturl+'views/'+s+'.json') #build string according to SOCRATA's convention\n",
    "    r=json.loads(s.text)\n",
    "    \n",
    "    colnum = len(r['columns']) #Get number of columns\n",
    "    \n",
    "    count = 0\n",
    "    for q in r['columns']:  #Tally the number of col descriptions that contain a description\n",
    "        if q.get('description','') != '': #If the description key doesn't exist, default value is '' (don't know why some don't have the key)\n",
    "            count += 1\n",
    "    coldesc = count\n",
    "    #write the values to the csv file. Dates in json files are seconds from jan 1 1970 so datetime.datetime.fromtimestamp converts\n",
    "    #This doesn't work on Seattle's:,datetime.datetime.fromtimestamp(r.get('rowsUpdatedAt','N/A'))\n",
    "    csv.writer(metadata).writerow([r['id'].encode(\"utf-8\"),r['name'].encode(\"utf-8\"),r.get('description','N/A'),r.get('category','N/A'),r['downloadCount'],r['viewCount'],r.get('LicenseID','N/A'),datetime.datetime.fromtimestamp(r['publicationDate']),r.get('tags','N/A'),r['metadata'].get('rowLabel','N/A'),colnum,coldesc]) #write one line to csv file\n",
    "\n",
    "metadata.close() #Close the output file, release all locks\n",
    "print(len(j)-1,\"of\",len(j)-1,\"rows written, 0 remaining\")"
   ]
  },
  {
   "cell_type": "code",
   "execution_count": 7,
   "metadata": {},
   "outputs": [],
   "source": []
  },
  {
   "cell_type": "code",
   "execution_count": null,
   "metadata": {},
   "outputs": [],
   "source": []
  },
  {
   "cell_type": "code",
   "execution_count": 14,
   "metadata": {},
   "outputs": [],
   "source": []
  },
  {
   "cell_type": "code",
   "execution_count": null,
   "metadata": {},
   "outputs": [],
   "source": []
  }
 ],
 "metadata": {
  "kernelspec": {
   "display_name": "Python 3",
   "language": "python",
   "name": "python3"
  },
  "language_info": {
   "codemirror_mode": {
    "name": "ipython",
    "version": 3
   },
   "file_extension": ".py",
   "mimetype": "text/x-python",
   "name": "python",
   "nbconvert_exporter": "python",
   "pygments_lexer": "ipython3",
   "version": "3.7.3"
  }
 },
 "nbformat": 4,
 "nbformat_minor": 2
}
