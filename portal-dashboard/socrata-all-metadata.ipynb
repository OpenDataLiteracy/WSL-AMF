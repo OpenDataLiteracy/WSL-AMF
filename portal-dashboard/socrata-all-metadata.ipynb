{
 "cells": [
  {
   "cell_type": "markdown",
   "metadata": {},
   "source": [
    "# Download json and summarize records for all published datasets\n",
    "\n",
    "This should work for any socrata portal, but you'll need to adjust the custom values in the metadata completeness sections\n",
    "\n",
    "Probably need to get a token to be able to download all the data.  Right now the API call specifies the number of assets so it still works. Otherwise it only returns 100"
   ]
  },
  {
   "cell_type": "code",
   "execution_count": 13,
   "metadata": {},
   "outputs": [],
   "source": [
    "#import the required libraries\n",
    "import os\n",
    "import csv\n",
    "import requests\n",
    "import json as json\n",
    "from pandas.io.json import json_normalize\n",
    "import datetime\n",
    "import numpy as np\n",
    "import pandas as pd\n",
    "import matplotlib.pyplot as plt\n",
    "from matplotlib import cm\n",
    "import seaborn as sns\n"
   ]
  },
  {
   "cell_type": "markdown",
   "metadata": {},
   "source": [
    "## Set up the code for your portal of interest"
   ]
  },
  {
   "cell_type": "code",
   "execution_count": 2,
   "metadata": {},
   "outputs": [],
   "source": [
    "targeturl='https://data.wa.gov/' #change this to the SOCRATA portal you want to target, don't forget ending /\n",
    "domain='data.wa.gov' \n",
    "descriptor='WA'   #change this to a recognizable descriptor for yourself- used in csv filename\n",
    "downloadDate = datetime.datetime.now()"
   ]
  },
  {
   "cell_type": "markdown",
   "metadata": {},
   "source": [
    "### Create Dictionary json records\n",
    "Use the Socrata API to get ALL metadata for the public assets\n",
    "\n",
    "add authentication?? ?$$app_token=OHlDzukOUa15bLYTvOV23hrmX"
   ]
  },
  {
   "cell_type": "code",
   "execution_count": 3,
   "metadata": {},
   "outputs": [],
   "source": [
    "r=requests.get('http://api.us.socrata.com/api/catalog/v1?limit=2655&domains='+domain) #build string according to SOCRATA's convention to get public data assets\n",
    "#r=requests.get('http://api.us.socrata.com/api/catalog/v1?domains='+domain) #build string according to SOCRATA's convention to get public data assets\n",
    "j=json.loads(r.text) #parse the json into a list named j\n",
    "j=[i for i in j['results']] #This gets rid of the 'results' key"
   ]
  },
  {
   "cell_type": "markdown",
   "metadata": {},
   "source": [
    "### Save the json to a file so you don't have to keep downloading it everytime."
   ]
  },
  {
   "cell_type": "code",
   "execution_count": 41,
   "metadata": {},
   "outputs": [],
   "source": [
    "#j[0] #view the first record\n",
    "with open(\"fullWA\"+str(datetime.datetime.now().strftime(\"%Y-%m-%d\"))+\".json\", \"w\") as write_file:\n",
    "    json.dump(j, write_file)"
   ]
  },
  {
   "cell_type": "markdown",
   "metadata": {},
   "source": [
    "### Open the csv file with testing data"
   ]
  },
  {
   "cell_type": "code",
   "execution_count": 3,
   "metadata": {
    "scrolled": true
   },
   "outputs": [],
   "source": [
    "#Open up the same file for reading\n",
    "with open(\"fullWA2019-07-26.json\", \"r\") as read_file:\n",
    "    dtest = json.load(read_file)"
   ]
  },
  {
   "cell_type": "code",
   "execution_count": 4,
   "metadata": {},
   "outputs": [
    {
     "data": {
      "text/plain": [
       "2230"
      ]
     },
     "execution_count": 4,
     "metadata": {},
     "output_type": "execute_result"
    }
   ],
   "source": [
    "# Using list comprehension to delete dictionary in list that contains 'reportcard'. If you want the full dataset, rerun the above script and change 'dtest' to 'd'.\n",
    "# All scripts below use 'd' as the source data\n",
    "d = [i for i in dtest if 'reportcard' not in (i['classification']['domain_tags'])]\n",
    "len(d)"
   ]
  },
  {
   "cell_type": "markdown",
   "metadata": {},
   "source": [
    "### Test Pit\n",
    "\n",
    "Ignore this block.  Use it to test out things or store bits of unused code"
   ]
  },
  {
   "cell_type": "code",
   "execution_count": 49,
   "metadata": {},
   "outputs": [
    {
     "name": "stdout",
     "output_type": "stream",
     "text": [
      "dataset\n"
     ]
    }
   ],
   "source": [
    "#The indexes for i (below) are much more limited than the indexes for j\n",
    "#test=[] #test list to fill\n",
    "\n",
    "#for c in d:\n",
    "#    #for x in c:\n",
    "#        if c.get('format') == 'text/csv':\n",
    "#            t = c.get('identifier')\n",
    "#            test.append(t)\n",
    "#            #print(c.get('format'))\n",
    "#test.sort()\n",
    "#print(test[0:20])\n",
    "\n",
    "\n",
    "#print(len(test))\n",
    "#j['results'][0]['resource'].keys() #Shows keys\n",
    "#type(j['identifier'])\n",
    "#print(j[0]['format'])\n",
    "#print(j['results'][0]['resource']['type'])\n",
    "#df = pd.DataFrame(j['']) \n",
    "\n",
    "#create a dataframe of the whole dataset (normalize deals with the nested structure)\n",
    "#df = pd.DataFrame.from_dict(json_normalize(d['results']), orient='columns')\n",
    "\n",
    "d['classification']['domain_tags']"
   ]
  },
  {
   "cell_type": "markdown",
   "metadata": {},
   "source": [
    "## Look at Types of Assets and Categories"
   ]
  },
  {
   "cell_type": "markdown",
   "metadata": {},
   "source": [
    "### Types for All Assets"
   ]
  },
  {
   "cell_type": "code",
   "execution_count": 5,
   "metadata": {},
   "outputs": [
    {
     "name": "stdout",
     "output_type": "stream",
     "text": [
      "List built: 2230 elements\n"
     ]
    }
   ],
   "source": [
    "#Set up a list of all the types\n",
    "\n",
    "typelist=[] #dim list as a empty list\n",
    "\n",
    "for c in d:  #d is the dictionary of parsed json\n",
    "        if len(c['resource']['id'])==9: #Basically, is the identifier legitimate?\n",
    "            typelist.append(c['resource']['type'])\n",
    "\n",
    "print(\"List built:\", len(typelist),\"elements\") #print how many elements are in dtlist\n"
   ]
  },
  {
   "cell_type": "code",
   "execution_count": 8,
   "metadata": {},
   "outputs": [
    {
     "data": {
      "text/html": [
       "<div>\n",
       "<style scoped>\n",
       "    .dataframe tbody tr th:only-of-type {\n",
       "        vertical-align: middle;\n",
       "    }\n",
       "\n",
       "    .dataframe tbody tr th {\n",
       "        vertical-align: top;\n",
       "    }\n",
       "\n",
       "    .dataframe thead th {\n",
       "        text-align: right;\n",
       "    }\n",
       "</style>\n",
       "<table border=\"1\" class=\"dataframe\">\n",
       "  <thead>\n",
       "    <tr style=\"text-align: right;\">\n",
       "      <th></th>\n",
       "      <th>type</th>\n",
       "    </tr>\n",
       "  </thead>\n",
       "  <tbody>\n",
       "    <tr>\n",
       "      <th>0</th>\n",
       "      <td>dataset</td>\n",
       "    </tr>\n",
       "    <tr>\n",
       "      <th>1</th>\n",
       "      <td>map</td>\n",
       "    </tr>\n",
       "    <tr>\n",
       "      <th>2</th>\n",
       "      <td>map</td>\n",
       "    </tr>\n",
       "    <tr>\n",
       "      <th>3</th>\n",
       "      <td>dataset</td>\n",
       "    </tr>\n",
       "    <tr>\n",
       "      <th>4</th>\n",
       "      <td>dataset</td>\n",
       "    </tr>\n",
       "  </tbody>\n",
       "</table>\n",
       "</div>"
      ],
      "text/plain": [
       "      type\n",
       "0  dataset\n",
       "1      map\n",
       "2      map\n",
       "3  dataset\n",
       "4  dataset"
      ]
     },
     "execution_count": 8,
     "metadata": {},
     "output_type": "execute_result"
    }
   ],
   "source": [
    "#Convert the dictionary to a dataframe\n",
    "dftype = pd.DataFrame(typelist, columns=['type'])\n",
    "dftype.head()"
   ]
  },
  {
   "cell_type": "code",
   "execution_count": null,
   "metadata": {},
   "outputs": [],
   "source": []
  },
  {
   "cell_type": "code",
   "execution_count": 101,
   "metadata": {},
   "outputs": [
    {
     "data": {
      "text/plain": [
       "Text(0, 0.5, '')"
      ]
     },
     "execution_count": 101,
     "metadata": {},
     "output_type": "execute_result"
    },
    {
     "data": {
      "image/png": "[encoded data removed]",
      "text/plain": [
       "<Figure size 1152x648 with 1 Axes>"
      ]
     },
     "metadata": {},
     "output_type": "display_data"
    }
   ],
   "source": [
    "#Create a pie chart\n",
    "\n",
    "pltdf = dftype.type.value_counts() #uses matlibplot to count rows for each type\n",
    "\n",
    "pltdftype = pd.DataFrame({'descriptor':'assetTypes','unit':pltdf.index, 'value':pltdf.values}) #Converts the series to a dataframe and adds a column for the longitudinal dataset\n",
    "pltdftype.sort_values(by=['value'], ascending=False)\n",
    "pltdf2 = pltdftype[:5].copy() #Put top 5 types in a new dataframe\n",
    "\n",
    "\n",
    "# Takes the less common types and adds those counts into a value named others.\n",
    "new_row = pd.DataFrame(data = {\n",
    "    'unit' : ['others'],\n",
    "    'value' : [pltdftype['value'][5:].sum()]\n",
    "})\n",
    "\n",
    "\n",
    "pltdf2 = pd.concat([pltdf2, new_row], sort=True) #Add the 'others' value to the top 5 dataframe\n",
    "\n",
    "#https://matplotlib.org/gallery/pie_and_polar_charts/pie_and_donut_labels.html\n",
    "#https://matplotlib.org/3.1.1/tutorials/introductory/pyplot.html\n",
    "#http://queirozf.com/entries/pandas-dataframe-plot-examples-with-matplotlib-pyplot\n",
    "\n",
    "\n",
    "#plot the types\n",
    "cs=cm.YlGn(np.arange(6)/8.)\n",
    "pltdf2.plot(y='value', kind='pie', labels=pltdf2.unit, colors=cs, legend=False, textprops={'fontsize': 16})\n",
    "plt.ylabel('') #Gets rid of the \"Counts label\""
   ]
  },
  {
   "cell_type": "markdown",
   "metadata": {},
   "source": [
    "### Dataframe of proportions"
   ]
  },
  {
   "cell_type": "code",
   "execution_count": 16,
   "metadata": {},
   "outputs": [
    {
     "name": "stdout",
     "output_type": "stream",
     "text": [
      "                type   percent\n",
      "chart            710  0.318386\n",
      "file             551  0.247085\n",
      "dataset          470  0.210762\n",
      "filter           228  0.102242\n",
      "map              152  0.068161\n",
      "federated_href    39  0.017489\n",
      "href              30  0.013453\n",
      "datalens          23  0.010314\n",
      "form              12  0.005381\n",
      "story              9  0.004036\n",
      "visualization      4  0.001794\n",
      "calendar           2  0.000897\n"
     ]
    }
   ],
   "source": [
    "dftypep = dftype.type.value_counts()\n",
    "dftypep = dftypep.to_frame()\n",
    "dftypep['percent'] = dftypep.type / dftypep.type.sum()\n",
    "print(dftypep)"
   ]
  },
  {
   "cell_type": "markdown",
   "metadata": {},
   "source": [
    "### Categories for All Assets"
   ]
  },
  {
   "cell_type": "code",
   "execution_count": 17,
   "metadata": {},
   "outputs": [
    {
     "name": "stdout",
     "output_type": "stream",
     "text": [
      "List built: 2230 elements\n"
     ]
    }
   ],
   "source": [
    "#Set up a list of all the types\n",
    "\n",
    "catlist=[] #dim masterlist as a empty list\n",
    "\n",
    "for i in d:  #d is the dictionary of parsed json\n",
    "        if len(i['resource']['id'])==9: #Basically, is the identifier legitimate?\n",
    "            catlist.append(i['classification'].get('domain_category', 'No Value'))\n",
    "\n",
    "\n",
    "catlist.sort()\n",
    "print(\"List built:\", len(catlist),\"elements\") #print how many elements are in dtlist"
   ]
  },
  {
   "cell_type": "code",
   "execution_count": 18,
   "metadata": {},
   "outputs": [
    {
     "data": {
      "text/html": [
       "<div>\n",
       "<style scoped>\n",
       "    .dataframe tbody tr th:only-of-type {\n",
       "        vertical-align: middle;\n",
       "    }\n",
       "\n",
       "    .dataframe tbody tr th {\n",
       "        vertical-align: top;\n",
       "    }\n",
       "\n",
       "    .dataframe thead th {\n",
       "        text-align: right;\n",
       "    }\n",
       "</style>\n",
       "<table border=\"1\" class=\"dataframe\">\n",
       "  <thead>\n",
       "    <tr style=\"text-align: right;\">\n",
       "      <th></th>\n",
       "      <th>category</th>\n",
       "    </tr>\n",
       "  </thead>\n",
       "  <tbody>\n",
       "    <tr>\n",
       "      <th>0</th>\n",
       "      <td>Agriculture</td>\n",
       "    </tr>\n",
       "    <tr>\n",
       "      <th>1</th>\n",
       "      <td>Consumer Protection</td>\n",
       "    </tr>\n",
       "    <tr>\n",
       "      <th>2</th>\n",
       "      <td>Consumer Protection</td>\n",
       "    </tr>\n",
       "    <tr>\n",
       "      <th>3</th>\n",
       "      <td>Consumer Protection</td>\n",
       "    </tr>\n",
       "    <tr>\n",
       "      <th>4</th>\n",
       "      <td>Consumer Protection</td>\n",
       "    </tr>\n",
       "  </tbody>\n",
       "</table>\n",
       "</div>"
      ],
      "text/plain": [
       "              category\n",
       "0          Agriculture\n",
       "1  Consumer Protection\n",
       "2  Consumer Protection\n",
       "3  Consumer Protection\n",
       "4  Consumer Protection"
      ]
     },
     "execution_count": 18,
     "metadata": {},
     "output_type": "execute_result"
    }
   ],
   "source": [
    "#Convert the list to a dataframe\n",
    "dfcat = pd.DataFrame(catlist, columns = ['category'])\n",
    "dfcat.head()"
   ]
  },
  {
   "cell_type": "code",
   "execution_count": 100,
   "metadata": {},
   "outputs": [
    {
     "data": {
      "text/plain": [
       "Text(0, 0.5, '')"
      ]
     },
     "execution_count": 100,
     "metadata": {},
     "output_type": "execute_result"
    },
    {
     "data": {
      "image/png": "[encoded data removed]",
      "text/plain": [
       "<Figure size 1152x648 with 1 Axes>"
      ]
     },
     "metadata": {},
     "output_type": "display_data"
    }
   ],
   "source": [
    "#Create a pie chart\n",
    "\n",
    "pltdf = dfcat.category.value_counts() #uses matlibplot to count rows for each type\n",
    "\n",
    "pltdfcat = pd.DataFrame({'descriptor':'assetCategories','unit':pltdf.index, 'value':pltdf.values}) #Converts the series to a dataframe\n",
    "\n",
    "pltdf2 = pltdfcat[:5].copy() #Put top 5 types in a new dataframe\n",
    "\n",
    "\n",
    "# Takes the less common types and adds those counts into a value named others.\n",
    "new_row = pd.DataFrame(data = {\n",
    "    'unit' : ['others'],\n",
    "    'value' : [pltdfcat['value'][5:].sum()]\n",
    "})\n",
    "\n",
    "\n",
    "pltdf2 = pd.concat([pltdf2, new_row], sort=False) #Add the 'others' value to the top 5 dataframe\n",
    "\n",
    "#https://matplotlib.org/gallery/pie_and_polar_charts/pie_and_donut_labels.html\n",
    "#https://matplotlib.org/3.1.1/tutorials/introductory/pyplot.html\n",
    "#http://queirozf.com/entries/pandas-dataframe-plot-examples-with-matplotlib-pyplot\n",
    "\n",
    "\n",
    "#plot the types\n",
    "cs=cm.PuRd(np.arange(6)/8.)\n",
    "pltdf2.plot(y='value', kind='pie', colors=cs, labels=pltdf2.unit, legend=False, textprops={'fontsize': 16})\n",
    "plt.ylabel('') #Gets rid of the \"Counts label\""
   ]
  },
  {
   "cell_type": "markdown",
   "metadata": {},
   "source": [
    "### Dataframe of proportions"
   ]
  },
  {
   "cell_type": "code",
   "execution_count": 23,
   "metadata": {},
   "outputs": [
    {
     "name": "stdout",
     "output_type": "stream",
     "text": [
      "                                 category   percent\n",
      "No Value                              800  0.358744\n",
      "Health                                663  0.297309\n",
      "Natural Resources & Environment       413  0.185202\n",
      "Education                              62  0.027803\n",
      "Economics                              53  0.023767\n",
      "Demographics                           47  0.021076\n",
      "Public Safety                          41  0.018386\n",
      "Politics                               35  0.015695\n",
      "Procurements and Contracts             33  0.014798\n",
      "Labor                                  32  0.014350\n",
      "Consumer Protection                    26  0.011659\n",
      "Transportation                         10  0.004484\n",
      "Recreation                              8  0.003587\n",
      "Employment                              6  0.002691\n",
      "Agriculture                             1  0.000448\n"
     ]
    }
   ],
   "source": [
    "dfcatp = dfcat.category.value_counts()\n",
    "dfcatp = dfcatp.to_frame()\n",
    "dfcatp['percent'] = dfcatp.category / dfcatp.category.sum()\n",
    "print(dfcatp)"
   ]
  },
  {
   "cell_type": "markdown",
   "metadata": {},
   "source": [
    "## Downloads and Views"
   ]
  },
  {
   "cell_type": "code",
   "execution_count": 24,
   "metadata": {},
   "outputs": [
    {
     "name": "stdout",
     "output_type": "stream",
     "text": [
      "List built: 2230 download counts\n",
      "List built: 2230 view counts\n"
     ]
    }
   ],
   "source": [
    "downl = []\n",
    "views=[]\n",
    "\n",
    "for i in d:  #d is the dictionary of parsed json\n",
    "        if len(i['resource']['id'])==9: #Basically, is the identifier legitimate?\n",
    "            downl.append(i['resource']['download_count'])\n",
    "\n",
    "for i in d:  #d is the dictionary of parsed json\n",
    "        if len(i['resource']['id'])==9: #Basically, is the identifier legitimate?\n",
    "            views.append(i['resource']['page_views']['page_views_total'])  \n",
    "\n",
    "print(\"List built:\", len(downl),\"download counts\") #print how many elements are in dtlist\n",
    "print(\"List built:\", len(views),\"view counts\") #print how many elements are in dtlist            \n",
    "\n",
    "dfuse = pd.DataFrame([downl,views,typelist]).T #build a dataframe with both lists and the category list\n",
    "dfuse.columns =['downloads','pageviews','type']\n"
   ]
  },
  {
   "cell_type": "markdown",
   "metadata": {},
   "source": [
    "### Plot the values"
   ]
  },
  {
   "cell_type": "code",
   "execution_count": 25,
   "metadata": {},
   "outputs": [
    {
     "data": {
      "text/plain": [
       "Text(0.5, 0.98, '')"
      ]
     },
     "execution_count": 25,
     "metadata": {},
     "output_type": "execute_result"
    },
    {
     "data": {
      "image/png": "[encoded data removed]",
      "text/plain": [
       "<Figure size 432x288 with 1 Axes>"
      ]
     },
     "metadata": {
      "needs_background": "light"
     },
     "output_type": "display_data"
    },
    {
     "data": {
      "image/png": "[encoded data removed]",
      "text/plain": [
       "<Figure size 432x288 with 1 Axes>"
      ]
     },
     "metadata": {
      "needs_background": "light"
     },
     "output_type": "display_data"
    }
   ],
   "source": [
    "dfuse.boxplot(by = ['type'], column=['downloads'], grid=False)\n",
    "plt.ylim(0,8000)\n",
    "plt.xticks(rotation=90)\n",
    "plt.title('Number of Downloads (values>8,000 not shown)')\n",
    "plt.suptitle(\"\")\n",
    "\n",
    "dfuse.boxplot(by = ['type'], column=['pageviews'], grid=False)\n",
    "plt.ylim(0,8000)\n",
    "plt.xticks(rotation=90)\n",
    "plt.title('Number of Page Views (values>8,000 not shown)')\n",
    "plt.suptitle(\"\")"
   ]
  },
  {
   "cell_type": "markdown",
   "metadata": {},
   "source": [
    "### downloads vs views"
   ]
  },
  {
   "cell_type": "code",
   "execution_count": 26,
   "metadata": {},
   "outputs": [
    {
     "data": {
      "text/plain": [
       "<matplotlib.axes._subplots.AxesSubplot at 0x2025ccf5630>"
      ]
     },
     "execution_count": 26,
     "metadata": {},
     "output_type": "execute_result"
    },
    {
     "data": {
      "image/png": "[encoded data removed]",
      "text/plain": [
       "<Figure size 432x288 with 1 Axes>"
      ]
     },
     "metadata": {
      "needs_background": "light"
     },
     "output_type": "display_data"
    }
   ],
   "source": [
    "#Calculate logs for downloads and views, only use where use is greater than 0\n",
    "dfusenum = dfuse[dfuse['type']=='dataset']\n",
    "dfusenum = dfusenum[dfusenum.downloads > 0]\n",
    "dfusenum['downloads'] = pd.to_numeric(dfusenum['downloads'])\n",
    "dfusenum['pageviews'] = pd.to_numeric(dfusenum['pageviews'])\n",
    "#dfusedataset = dfusenum[dfusenum['type']=='dataset']\n",
    "#dfusedataset = dfusenum[dfusenum.downloads > 0]\n",
    "dfusedataset = dfusenum  #I'm sure there is a way cleaner way to do this...\n",
    "dfusedataset['log-pageviews'] = np.log(dfusenum.pageviews)\n",
    "dfusedataset['log-downloads'] = np.log(dfusenum.downloads)\n",
    "sns.scatterplot('log-pageviews', # Horizontal axis\n",
    "           'log-downloads', # Vertical axis\n",
    "           data=dfusedataset)\n",
    "\n"
   ]
  },
  {
   "cell_type": "markdown",
   "metadata": {},
   "source": [
    "## Assess completion of available metadata elements\n",
    "The API json does not include the custom metadatafields (or at least I could not figure out how to get them).  The script below downloads detailed metadata for a list of datasets retrieved from the discovery API. "
   ]
  },
  {
   "cell_type": "markdown",
   "metadata": {},
   "source": [
    "### Get list of dataset ids"
   ]
  },
  {
   "cell_type": "code",
   "execution_count": 28,
   "metadata": {},
   "outputs": [
    {
     "name": "stdout",
     "output_type": "stream",
     "text": [
      "List built: 470 elements\n"
     ]
    }
   ],
   "source": [
    "dtlist=[] #dim list as a empty list\n",
    "\n",
    "for c in d:  #d is the dictionary of parsed json\n",
    "        if len(c['resource']['id'])==9: #Basically, is the identifier legitimate?\n",
    "            if c['resource']['type'] == 'dataset':\n",
    "                dtlist.append(c['resource']['id'])\n",
    "\n",
    "print(\"List built:\", len(dtlist),\"elements\") #print how many elements are in dtlist\n"
   ]
  },
  {
   "cell_type": "markdown",
   "metadata": {},
   "source": [
    "### Download metadata for each id and create both a csv file and then a dataframe"
   ]
  },
  {
   "cell_type": "code",
   "execution_count": 29,
   "metadata": {},
   "outputs": [
    {
     "name": "stdout",
     "output_type": "stream",
     "text": [
      "32 of 32 rows written, 0 remaining\n"
     ]
    }
   ],
   "source": [
    "# Create a csv file and dataframe\n",
    "\n",
    "#This function deals with multiply nested json elements in the csv write line below\n",
    "#https://stackoverflow.com/questions/43491287/elegant-way-to-check-if-a-nested-key-exists-in-a-python-dict\n",
    "def exists(obj, chain):\n",
    "    _key = chain.pop(0)\n",
    "    if _key in obj:\n",
    "        return exists(obj[_key], chain) if chain else obj[_key]\n",
    "\n",
    "\n",
    "metadata=open(descriptor+'-METADATA'+str(datetime.datetime.now().strftime(\"%Y-%m-%d\"))+'.csv', 'w', newline='')\n",
    "csv.writer(metadata).writerow(['id','name','description','category','attribution','periodOfTime','postingFreq','originator','link','downloadCount','viewCount','licenseId','publicationDate','rowsUpdateAt','tags','rowLabel','metdataLanguage','numberColumns','numColumnDescriptions'])\n",
    "\n",
    "for s in dtlist:\n",
    "    s=requests.get(targeturl+'views/'+s+'.json?$$app_token=OHlDzukOUa15bLYTvOV23hrmX') #build string according to SOCRATA's convention\n",
    "    r=json.loads(s.text)\n",
    "    \n",
    "    colnum = len(r['columns']) #Get number of columns\n",
    "    \n",
    "    count = 0\n",
    "    for q in r['columns']:  #Tally the number of col descriptions that contain a description\n",
    "        if q.get('description','') != '': #If the description key doesn't exist, default value is '' (don't know why some don't have the key)\n",
    "            count += 1\n",
    "    coldesc = count\n",
    "    #write the values to the csv file. Dates in json files are seconds from jan 1 1970 so datetime.datetime.fromtimestamp converts\n",
    "    #This has custom fields for data.wa.gov, to use with other portals, you'll have to customize it\n",
    "    csv.writer(metadata).writerow([r['id'],\n",
    "        r['name'],\n",
    "        r.get('description','N/A'),\n",
    "        r.get('category','N/A'),\n",
    "        r.get('attribution','N/A'),\n",
    "        exists(r['metadata'],['custom_fields','Temporal','Period of Time']), #See the function 'exists' above\n",
    "        exists(r['metadata'],['custom_fields','Temporal','Posting Frequency']),\n",
    "        exists(r['metadata'],['custom_fields','Identification','Originator']),\n",
    "        r.get('attributionLink','N/A'),\n",
    "        r['downloadCount'],\n",
    "        r['viewCount'],\n",
    "        r.get('LicenseID','N/A'),\n",
    "        datetime.datetime.fromtimestamp(r['publicationDate']),\n",
    "        datetime.datetime.fromtimestamp(r.get('rowsUpdatedAt','N/A')),\n",
    "        r.get('tags','N/A'),\n",
    "        r['metadata'].get('rowLabel','N/A'),\n",
    "        exists(r['metadata'],['custom_fields','Identification','Metadata Language']),\n",
    "        colnum,\n",
    "        coldesc]) #write one line to csv file\n",
    "\n",
    "metadata.close() #Close the output file, release all locks\n",
    "\n",
    "#Open up the same file as a dataframe. Encode cp1252 avoids a utf8 error.\n",
    "dfmeta = pd.read_csv(descriptor+'-METADATA'+str(datetime.datetime.now().strftime(\"%Y-%m-%d\"))+'.csv',encoding='cp1252')"
   ]
  },
  {
   "cell_type": "markdown",
   "metadata": {},
   "source": [
    "### How complete are available metadata elements?\n",
    "'description','category','attribution','periodOfTime','postingFreq','originator','link','licenseId','tags','rowLabel', 'metadataLanguage'\n"
   ]
  },
  {
   "cell_type": "code",
   "execution_count": 35,
   "metadata": {},
   "outputs": [],
   "source": [
    "#dfmeta.count(axis='columns')\n",
    "#dfmeta.loc[446,]\n",
    "dfmeta = pd.read_csv(descriptor+'-METADATA'+str(datetime.datetime.now().strftime(\"%Y-%m-%d\"))+'.csv',encoding='cp1252')"
   ]
  },
  {
   "cell_type": "code",
   "execution_count": 36,
   "metadata": {},
   "outputs": [
    {
     "data": {
      "text/plain": [
       "Text(0.5, 0, 'Number of available metadata elements')"
      ]
     },
     "execution_count": 36,
     "metadata": {},
     "output_type": "execute_result"
    },
    {
     "data": {
      "image/png": "[encoded data removed]",
      "text/plain": [
       "<Figure size 432x288 with 1 Axes>"
      ]
     },
     "metadata": {
      "needs_background": "light"
     },
     "output_type": "display_data"
    }
   ],
   "source": [
    "#Available metadata dataframe of public datasets\n",
    "#dfmeta['numColumnDescriptions'].replace(0, np.nan, inplace = True)\n",
    "\n",
    "#Count number of available metadata fields filled (not NaN)(and subtract the uid, name, downloads, views, pub date, update date, num columns, col desc)\n",
    "adfmetas1 = dfmeta.count(axis='columns')-8\n",
    "\n",
    "#Converts the series to a dataframe\n",
    "adfmetacts = pd.DataFrame({'origIndex':adfmetas1.index, 'value':adfmetas1.values})\n",
    "\n",
    "adfmetas2 = adfmetacts.value.value_counts() #uses matlibplot to count rows for each count\n",
    "\n",
    "#Converts the series to a dataframe\n",
    "\n",
    "adfmetacts = pd.DataFrame({'descriptor':'availableMetadataComplete','unit':adfmetas2.index, 'value':adfmetas2.values})\n",
    " \n",
    "\n",
    "adfmeta = adfmetacts.sort_values('unit',ascending=True) #sort the rows\n",
    "\n",
    "#plot the counts\n",
    "adfmeta.plot(y='value', kind='bar', x='unit', legend=False, title='Available elements out of 11')\n",
    "plt.ylabel('Number of public datasets') #Gets rid of the \"Counts lable\"\n",
    "plt.xlabel('Number of available metadata elements')\n",
    "\n",
    "\n"
   ]
  },
  {
   "cell_type": "markdown",
   "metadata": {},
   "source": [
    "### Create table of available metadata"
   ]
  },
  {
   "cell_type": "code",
   "execution_count": null,
   "metadata": {},
   "outputs": [],
   "source": []
  },
  {
   "cell_type": "code",
   "execution_count": 80,
   "metadata": {},
   "outputs": [
    {
     "data": {
      "text/html": [
       "<div>\n",
       "<style scoped>\n",
       "    .dataframe tbody tr th:only-of-type {\n",
       "        vertical-align: middle;\n",
       "    }\n",
       "\n",
       "    .dataframe tbody tr th {\n",
       "        vertical-align: top;\n",
       "    }\n",
       "\n",
       "    .dataframe thead th {\n",
       "        text-align: right;\n",
       "    }\n",
       "</style>\n",
       "<table border=\"1\" class=\"dataframe\">\n",
       "  <thead>\n",
       "    <tr style=\"text-align: right;\">\n",
       "      <th></th>\n",
       "      <th>origIndex</th>\n",
       "      <th>value</th>\n",
       "      <th>percentYes</th>\n",
       "      <th>percentNo</th>\n",
       "    </tr>\n",
       "  </thead>\n",
       "  <tbody>\n",
       "    <tr>\n",
       "      <th>1</th>\n",
       "      <td>name</td>\n",
       "      <td>470</td>\n",
       "      <td>100.000000</td>\n",
       "      <td>0.000000</td>\n",
       "    </tr>\n",
       "    <tr>\n",
       "      <th>9</th>\n",
       "      <td>downloadCount</td>\n",
       "      <td>470</td>\n",
       "      <td>100.000000</td>\n",
       "      <td>0.000000</td>\n",
       "    </tr>\n",
       "    <tr>\n",
       "      <th>17</th>\n",
       "      <td>numberColumns</td>\n",
       "      <td>470</td>\n",
       "      <td>100.000000</td>\n",
       "      <td>0.000000</td>\n",
       "    </tr>\n",
       "    <tr>\n",
       "      <th>13</th>\n",
       "      <td>rowsUpdateAt</td>\n",
       "      <td>470</td>\n",
       "      <td>100.000000</td>\n",
       "      <td>0.000000</td>\n",
       "    </tr>\n",
       "    <tr>\n",
       "      <th>12</th>\n",
       "      <td>publicationDate</td>\n",
       "      <td>470</td>\n",
       "      <td>100.000000</td>\n",
       "      <td>0.000000</td>\n",
       "    </tr>\n",
       "    <tr>\n",
       "      <th>10</th>\n",
       "      <td>viewCount</td>\n",
       "      <td>470</td>\n",
       "      <td>100.000000</td>\n",
       "      <td>0.000000</td>\n",
       "    </tr>\n",
       "    <tr>\n",
       "      <th>18</th>\n",
       "      <td>numColumnDescriptions</td>\n",
       "      <td>470</td>\n",
       "      <td>100.000000</td>\n",
       "      <td>0.000000</td>\n",
       "    </tr>\n",
       "    <tr>\n",
       "      <th>3</th>\n",
       "      <td>category</td>\n",
       "      <td>327</td>\n",
       "      <td>69.574468</td>\n",
       "      <td>30.425532</td>\n",
       "    </tr>\n",
       "    <tr>\n",
       "      <th>14</th>\n",
       "      <td>tags</td>\n",
       "      <td>323</td>\n",
       "      <td>68.723404</td>\n",
       "      <td>31.276596</td>\n",
       "    </tr>\n",
       "    <tr>\n",
       "      <th>2</th>\n",
       "      <td>description</td>\n",
       "      <td>311</td>\n",
       "      <td>66.170213</td>\n",
       "      <td>33.829787</td>\n",
       "    </tr>\n",
       "    <tr>\n",
       "      <th>4</th>\n",
       "      <td>attribution</td>\n",
       "      <td>292</td>\n",
       "      <td>62.127660</td>\n",
       "      <td>37.872340</td>\n",
       "    </tr>\n",
       "    <tr>\n",
       "      <th>15</th>\n",
       "      <td>rowLabel</td>\n",
       "      <td>204</td>\n",
       "      <td>43.404255</td>\n",
       "      <td>56.595745</td>\n",
       "    </tr>\n",
       "    <tr>\n",
       "      <th>8</th>\n",
       "      <td>link</td>\n",
       "      <td>196</td>\n",
       "      <td>41.702128</td>\n",
       "      <td>58.297872</td>\n",
       "    </tr>\n",
       "    <tr>\n",
       "      <th>6</th>\n",
       "      <td>postingFreq</td>\n",
       "      <td>145</td>\n",
       "      <td>30.851064</td>\n",
       "      <td>69.148936</td>\n",
       "    </tr>\n",
       "    <tr>\n",
       "      <th>5</th>\n",
       "      <td>periodOfTime</td>\n",
       "      <td>130</td>\n",
       "      <td>27.659574</td>\n",
       "      <td>72.340426</td>\n",
       "    </tr>\n",
       "    <tr>\n",
       "      <th>7</th>\n",
       "      <td>originator</td>\n",
       "      <td>49</td>\n",
       "      <td>10.425532</td>\n",
       "      <td>89.574468</td>\n",
       "    </tr>\n",
       "    <tr>\n",
       "      <th>16</th>\n",
       "      <td>metdataLanguage</td>\n",
       "      <td>24</td>\n",
       "      <td>5.106383</td>\n",
       "      <td>94.893617</td>\n",
       "    </tr>\n",
       "    <tr>\n",
       "      <th>11</th>\n",
       "      <td>licenseId</td>\n",
       "      <td>0</td>\n",
       "      <td>0.000000</td>\n",
       "      <td>100.000000</td>\n",
       "    </tr>\n",
       "  </tbody>\n",
       "</table>\n",
       "</div>"
      ],
      "text/plain": [
       "                origIndex  value  percentYes   percentNo\n",
       "1                    name    470  100.000000    0.000000\n",
       "9           downloadCount    470  100.000000    0.000000\n",
       "17          numberColumns    470  100.000000    0.000000\n",
       "13           rowsUpdateAt    470  100.000000    0.000000\n",
       "12        publicationDate    470  100.000000    0.000000\n",
       "10              viewCount    470  100.000000    0.000000\n",
       "18  numColumnDescriptions    470  100.000000    0.000000\n",
       "3                category    327   69.574468   30.425532\n",
       "14                   tags    323   68.723404   31.276596\n",
       "2             description    311   66.170213   33.829787\n",
       "4             attribution    292   62.127660   37.872340\n",
       "15               rowLabel    204   43.404255   56.595745\n",
       "8                    link    196   41.702128   58.297872\n",
       "6             postingFreq    145   30.851064   69.148936\n",
       "5            periodOfTime    130   27.659574   72.340426\n",
       "7              originator     49   10.425532   89.574468\n",
       "16        metdataLanguage     24    5.106383   94.893617\n",
       "11              licenseId      0    0.000000  100.000000"
      ]
     },
     "execution_count": 80,
     "metadata": {},
     "output_type": "execute_result"
    }
   ],
   "source": [
    "adfmetarow = dfmeta.count('rows')\n",
    "\n",
    "adfmetacts = pd.DataFrame({'origIndex':adfmetarow.index, 'value':adfmetarow.values}) #Converts the series to a dataframe\n",
    "\n",
    "adfmetacts['percentYes'] = adfmetacts['value']/len(dfmeta) * 100 \n",
    "adfmetacts['percentNo'] = 100 - adfmetacts['percentYes']\n",
    "\n",
    "adfmetacts2 = adfmetacts.iloc[1:] #Get rid of id row\n",
    "\n",
    "adfmetacts3 = adfmetacts2.sort_values('value',ascending=False) #sort the rows\n",
    "\n",
    "adfmetacts3\n"
   ]
  },
  {
   "cell_type": "code",
   "execution_count": 95,
   "metadata": {},
   "outputs": [
    {
     "data": {
      "text/plain": [
       "(array([ 0,  1,  2,  3,  4,  5,  6,  7,  8,  9, 10, 11, 12, 13, 14, 15, 16,\n",
       "        17]), <a list of 18 Text xticklabel objects>)"
      ]
     },
     "execution_count": 95,
     "metadata": {},
     "output_type": "execute_result"
    },
    {
     "data": {
      "image/png": "[encoded data removed]",
      "text/plain": [
       "<Figure size 1152x648 with 1 Axes>"
      ]
     },
     "metadata": {
      "needs_background": "light"
     },
     "output_type": "display_data"
    }
   ],
   "source": [
    "#plot the counts\n",
    "plt.rcParams[\"figure.figsize\"] = [16,9]\n",
    "adfmetacts3.plot(y='value', kind='bar', x='origIndex', legend=False, title='Available elements out of 11')\n",
    "plt.ylabel('Number of public datasets') #Gets rid of the \"Counts lable\"\n",
    "plt.xlabel('Number of available metadata elements', fontsize=16)\n",
    "#plt.rc('xtick', labelsize=12)\n",
    "plt.xticks(rotation=45, fontsize=12, horizontalalignment='right')\n"
   ]
  },
  {
   "cell_type": "markdown",
   "metadata": {},
   "source": [
    "### How complete are core metadata elements?\n",
    "Description, Category, Posting Frequency, and Attribution (data_provided_by)"
   ]
  },
  {
   "cell_type": "code",
   "execution_count": 64,
   "metadata": {},
   "outputs": [
    {
     "data": {
      "text/plain": [
       "<matplotlib.legend.Legend at 0x2025e6e99e8>"
      ]
     },
     "execution_count": 64,
     "metadata": {},
     "output_type": "execute_result"
    },
    {
     "data": {
      "image/png": "[encoded data removed]",
      "text/plain": [
       "<Figure size 432x288 with 1 Axes>"
      ]
     },
     "metadata": {
      "needs_background": "light"
     },
     "output_type": "display_data"
    }
   ],
   "source": [
    "#Core Metadata DataFrame\n",
    "cdfmetaorig = dfmeta[[\"id\",\n",
    "\"description\",\n",
    "\"category\",\n",
    "\"postingFreq\",\n",
    "\"attribution\"]]\n",
    "\n",
    "#Count number of core metadata elements filled (not NaN)(and subtract the uid)\n",
    "cdfmetas1 = cdfmetaorig.count(axis='columns')-1\n",
    "\n",
    "cdfmeta = pd.DataFrame({'origIndex':cdfmetas1.index, 'value':cdfmetas1.values}) #Converts the series to a dataframe\n",
    "\n",
    "cdfmetas2 = cdfmeta.value.value_counts() #uses matlibplot to count rows for each count\n",
    "\n",
    "cdfmetacts = pd.DataFrame({'descriptor':'coreMetadataComplete','unit':cdfmetas2.index, 'value':cdfmetas2.values}) #Converts the series to a dataframe\n",
    "cdfmeta = cdfmetacts.sort_values('unit',ascending=True) #sort the rows\n",
    "\n",
    "#Set up percent yes and no\n",
    "cdfmeta['percentYes'] = cdfmeta['value']/len(dfmeta) * 100 \n",
    "cdfmeta['percentNo'] = 100 - cdfmeta['percentYes']\n",
    "\n",
    "#plot the counts\n",
    "#cdfmeta.plot(y='value', kind='bar', x='unit', legend=False, title='Core elements out of 4')\n",
    "# Create No bars\n",
    "plt.bar(cdfmeta['unit'], cdfmeta['percentNo'], color='#d94552', edgecolor='white', label='Not Included')\n",
    "# Create Yes bars\n",
    "plt.bar(cdfmeta['unit'], cdfmeta['percentYes'], bottom=cdfmeta['percentNo'], color='#5ea3db', edgecolor='white', label='Included')\n",
    "\n",
    "\n",
    "plt.ylabel('Percent public datasets') #Gets rid of the \"Counts lable\"\n",
    "plt.xlabel('Number of core metadata elements')\n",
    "plt.legend(loc='upper left', bbox_to_anchor=(1,1), ncol=1)"
   ]
  },
  {
   "cell_type": "code",
   "execution_count": 60,
   "metadata": {},
   "outputs": [
    {
     "data": {
      "text/plain": [
       "<matplotlib.legend.Legend at 0x2025e4fca58>"
      ]
     },
     "execution_count": 60,
     "metadata": {},
     "output_type": "execute_result"
    },
    {
     "data": {
      "image/png": "[encoded data removed]",
      "text/plain": [
       "<Figure size 432x288 with 1 Axes>"
      ]
     },
     "metadata": {
      "needs_background": "light"
     },
     "output_type": "display_data"
    }
   ],
   "source": [
    "#Look at each core element\n",
    "# Count the number of not null values for each column - Description, Category, Posting Frequency, and Attribution\n",
    "coremeta = cdfmetaorig.count('rows')\n",
    "\n",
    "coremeta1 = pd.DataFrame({'origIndex':coremeta.index, 'value':coremeta.values}) #Converts the series to a dataframe\n",
    "\n",
    "coremeta1['percentYes'] = coremeta1['value']/len(dfmeta) * 100 \n",
    "coremeta1['percentNo'] = 100 - coremeta1['percentYes']\n",
    "\n",
    "coremeta2 = coremeta1.iloc[1:] #Get rid of id row\n",
    "\n",
    "coremeta3 = coremeta2.sort_values('value',ascending=False) #sort the rows\n",
    "\n",
    "#plot the counts\n",
    "# Create No bars\n",
    "plt.bar(coremeta3['origIndex'], coremeta3['percentNo'], color='#d94552', edgecolor='white', label='Not Included')\n",
    "# Create Yes bars\n",
    "plt.bar(coremeta3['origIndex'], coremeta3['percentYes'], bottom=coremeta3['percentNo'], color='#5ea3db', edgecolor='white', label='Included')\n",
    "\n",
    "#coremeta3.plot(y='percentYes', kind='bar', x='origIndex', legend=False, title='Datasets with Completed Element')\n",
    "#coremeta3.plot(y='percentNo', bottom='percentYes' kind='bar', x='origIndex', legend=False, title='Datasets with Completed Element')\n",
    "plt.ylabel('Percent of public datasets') #Gets rid of the \"Counts lable\"\n",
    "plt.xlabel('Core metadata element')\n",
    "plt.legend(loc='upper left', bbox_to_anchor=(1,1), ncol=1)"
   ]
  },
  {
   "cell_type": "code",
   "execution_count": 65,
   "metadata": {},
   "outputs": [
    {
     "data": {
      "text/html": [
       "<div>\n",
       "<style scoped>\n",
       "    .dataframe tbody tr th:only-of-type {\n",
       "        vertical-align: middle;\n",
       "    }\n",
       "\n",
       "    .dataframe tbody tr th {\n",
       "        vertical-align: top;\n",
       "    }\n",
       "\n",
       "    .dataframe thead th {\n",
       "        text-align: right;\n",
       "    }\n",
       "</style>\n",
       "<table border=\"1\" class=\"dataframe\">\n",
       "  <thead>\n",
       "    <tr style=\"text-align: right;\">\n",
       "      <th></th>\n",
       "      <th>descriptor</th>\n",
       "      <th>unit</th>\n",
       "      <th>value</th>\n",
       "      <th>percentYes</th>\n",
       "      <th>percentNo</th>\n",
       "    </tr>\n",
       "  </thead>\n",
       "  <tbody>\n",
       "    <tr>\n",
       "      <th>2</th>\n",
       "      <td>coreMetadataComplete</td>\n",
       "      <td>0</td>\n",
       "      <td>102</td>\n",
       "      <td>21.702128</td>\n",
       "      <td>78.297872</td>\n",
       "    </tr>\n",
       "    <tr>\n",
       "      <th>4</th>\n",
       "      <td>coreMetadataComplete</td>\n",
       "      <td>1</td>\n",
       "      <td>40</td>\n",
       "      <td>8.510638</td>\n",
       "      <td>91.489362</td>\n",
       "    </tr>\n",
       "    <tr>\n",
       "      <th>3</th>\n",
       "      <td>coreMetadataComplete</td>\n",
       "      <td>2</td>\n",
       "      <td>68</td>\n",
       "      <td>14.468085</td>\n",
       "      <td>85.531915</td>\n",
       "    </tr>\n",
       "    <tr>\n",
       "      <th>0</th>\n",
       "      <td>coreMetadataComplete</td>\n",
       "      <td>3</td>\n",
       "      <td>141</td>\n",
       "      <td>30.000000</td>\n",
       "      <td>70.000000</td>\n",
       "    </tr>\n",
       "    <tr>\n",
       "      <th>1</th>\n",
       "      <td>coreMetadataComplete</td>\n",
       "      <td>4</td>\n",
       "      <td>119</td>\n",
       "      <td>25.319149</td>\n",
       "      <td>74.680851</td>\n",
       "    </tr>\n",
       "  </tbody>\n",
       "</table>\n",
       "</div>"
      ],
      "text/plain": [
       "             descriptor  unit  value  percentYes  percentNo\n",
       "2  coreMetadataComplete     0    102   21.702128  78.297872\n",
       "4  coreMetadataComplete     1     40    8.510638  91.489362\n",
       "3  coreMetadataComplete     2     68   14.468085  85.531915\n",
       "0  coreMetadataComplete     3    141   30.000000  70.000000\n",
       "1  coreMetadataComplete     4    119   25.319149  74.680851"
      ]
     },
     "execution_count": 65,
     "metadata": {},
     "output_type": "execute_result"
    }
   ],
   "source": [
    "cdfmeta.head()"
   ]
  },
  {
   "cell_type": "markdown",
   "metadata": {},
   "source": [
    "## Set up csv file to track values longitudinally\n",
    "\n",
    "This csv file has four columns: download_date, descriptor, unit, value\n",
    "\n",
    "An example entry would be: 2019-02-23, type, dataset, 509\n",
    "\n",
    "Or: 2019-05-10, coremetadata-complete, 3, 208"
   ]
  },
  {
   "cell_type": "code",
   "execution_count": 62,
   "metadata": {},
   "outputs": [],
   "source": [
    "#Calculate some summary stats\n",
    "#calculate median\n",
    "dfusestats = dfuse[dfuse['type']=='dataset']\n",
    "med = dfusestats.median()\n",
    "med = pd.DataFrame({'descriptor':'median','unit':med.index, 'value':med.values})\n",
    "\n",
    "#calculate mean\n",
    "mean = dfusestats.mean()\n",
    "mean = pd.DataFrame({'descriptor':'mean','unit':mean.index, 'value':mean.values})"
   ]
  },
  {
   "cell_type": "code",
   "execution_count": 63,
   "metadata": {},
   "outputs": [],
   "source": [
    "#Append dataframes to a new dataframe\n",
    "long = pd.DataFrame(columns=['download_date','descriptor','unit','value'])\n",
    "long = long.append([pltdftype, pltdfcat, adfmetacts, cdfmetacts, med, mean], sort=False, ignore_index = True)\n",
    "long['download_date'] = downloadDate"
   ]
  },
  {
   "cell_type": "code",
   "execution_count": 64,
   "metadata": {},
   "outputs": [],
   "source": [
    "#append data to csv file\n",
    "if os.path.isfile('portalLog-noreportcard.csv'):\n",
    "    long.to_csv('portalLog-noreportcard.csv', header=False, mode = 'a', index=False) #if file exists, append to it without header\n",
    "else:\n",
    "    long.to_csv('portalLog-noreportcard.csv', mode = 'w', index=False) #if file does not exist, create it and add header"
   ]
  },
  {
   "cell_type": "code",
   "execution_count": 240,
   "metadata": {},
   "outputs": [],
   "source": [
    "\n"
   ]
  },
  {
   "cell_type": "code",
   "execution_count": null,
   "metadata": {},
   "outputs": [],
   "source": []
  }
 ],
 "metadata": {
  "kernelspec": {
   "display_name": "Python 3",
   "language": "python",
   "name": "python3"
  },
  "language_info": {
   "codemirror_mode": {
    "name": "ipython",
    "version": 3
   },
   "file_extension": ".py",
   "mimetype": "text/x-python",
   "name": "python",
   "nbconvert_exporter": "python",
   "pygments_lexer": "ipython3",
   "version": "3.7.3"
  }
 },
 "nbformat": 4,
 "nbformat_minor": 2
}
