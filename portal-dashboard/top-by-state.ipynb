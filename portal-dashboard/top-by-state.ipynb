{
 "cells": [
  {
   "cell_type": "markdown",
   "metadata": {},
   "source": [
    "# Download metadata for top 5 datasets from 17 state Socrata portals\n",
    "\n",
    "After manually creating a list of state portals, this uses Socrata's discovery API to download metadata from the top 5 (by pageviews) datasets from each state portal.  It downloads a select list of metadata elements:\n",
    " 'id','name','description','category','downloadCount','viewCount','licenseId','publicationDate','rowsUpdateAt','provenance','domain'"
   ]
  },
  {
   "cell_type": "code",
   "execution_count": 1,
   "metadata": {},
   "outputs": [],
   "source": [
    "#import the required libraries\n",
    "import csv\n",
    "import requests\n",
    "import json as json\n",
    "import datetime\n",
    "import numpy as np\n",
    "import pandas as pd\n",
    "import matplotlib.pyplot as plt\n",
    "import seaborn as sns"
   ]
  },
  {
   "cell_type": "code",
   "execution_count": 2,
   "metadata": {},
   "outputs": [],
   "source": [
    "#Create the list of state portals to iterate through\n",
    "\n",
    "stp = []\n",
    "\n",
    "stp =[\"opendata.utah.gov\",\n",
    "\"opendata.maryland.gov\",\n",
    "\"data.wa.gov\",\n",
    "\"data.vermont.gov\",\n",
    "\"data.texas.gov\",\n",
    "\"data.pa.gov\",\n",
    "\"data.oregon.gov\",\n",
    "\"data.ny.gov\",\n",
    "\"data.nj.gov\",\n",
    "\"data.mo.gov\",\n",
    "\"data.michigan.gov\",\n",
    "\"data.maryland.gov\",\n",
    "\"data.iowa.gov\",\n",
    "\"data.hawaii.gov\",\n",
    "\"data.delaware.gov\",\n",
    "\"data.ct.gov\",\n",
    "\"data.colorado.gov\"]\n",
    "\n"
   ]
  },
  {
   "cell_type": "markdown",
   "metadata": {},
   "source": [
    "### Download json data and select metadata elements\n",
    "\n",
    "Creates a csv file in home directory and adds metadata to that file."
   ]
  },
  {
   "cell_type": "code",
   "execution_count": 10,
   "metadata": {},
   "outputs": [
    {
     "name": "stdout",
     "output_type": "stream",
     "text": [
      "2 of 2 rows written, 0 remaining\n"
     ]
    }
   ],
   "source": [
    "metadata=open('State-portals-top5-METADATA.csv', 'w', newline='')\n",
    "csv.writer(metadata).writerow(['id','name','description','category','downloadCount','viewCount','licenseId','publicationDate','rowsUpdateAt','provenance','domain'])\n",
    "\n",
    "\n",
    "for s in stp:\n",
    "    i=requests.get('http://api.us.socrata.com/api/catalog/v1?domains='+s+'&search_context='+s+'&limit=5&only=datasets') #build string according to SOCRATA's convention to get top 5 assets\n",
    "    j=json.loads(i.text) #parse the json into a list named j\n",
    "    for r in j['results']:\n",
    "        csv.writer(metadata).writerow([r['resource']['id'].encode(\"utf-8\"),r['resource']['name'].encode(\"utf-8\"),r['resource'].get('description','N/A'),r['classification'].get('domain_category','N/A'),r['resource']['download_count'],r['resource']['page_views']['page_views_total'],r['metadata'].get('license','N/A'),r['resource']['createdAt'],r['resource']['provenance'],r['metadata']['domain']]) #write one line to csv file\n",
    "\n",
    "metadata.close() #Close the output file, release all locks"
   ]
  },
  {
   "cell_type": "code",
   "execution_count": null,
   "metadata": {},
   "outputs": [],
   "source": []
  }
 ],
 "metadata": {
  "kernelspec": {
   "display_name": "Python 3",
   "language": "python",
   "name": "python3"
  },
  "language_info": {
   "codemirror_mode": {
    "name": "ipython",
    "version": 3
   },
   "file_extension": ".py",
   "mimetype": "text/x-python",
   "name": "python",
   "nbconvert_exporter": "python",
   "pygments_lexer": "ipython3",
   "version": "3.7.3"
  }
 },
 "nbformat": 4,
 "nbformat_minor": 2
}
