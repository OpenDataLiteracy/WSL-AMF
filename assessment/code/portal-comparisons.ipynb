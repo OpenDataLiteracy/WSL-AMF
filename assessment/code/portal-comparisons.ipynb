{
 "cells": [
  {
   "cell_type": "markdown",
   "metadata": {},
   "source": [
    "# Download metadata for top 5 datasets from Socrata portals, get number of datasets\n",
    "\n",
    "After manually creating a list of state portals, this uses Socrata's discovery API to download metadata from the top 5 (by pageviews) datasets from each state portal.  It downloads a select list of metadata elements:\n",
    " 'id','name','description','category','downloadCount','viewCount','licenseId','publicationDate','rowsUpdateAt','provenance','domain'"
   ]
  },
  {
   "cell_type": "code",
   "execution_count": 1,
   "metadata": {},
   "outputs": [],
   "source": [
    "#import the required libraries\n",
    "import csv\n",
    "import requests\n",
    "import json as json\n",
    "import datetime\n",
    "import numpy as np\n",
    "import pandas as pd\n",
    "import matplotlib.pyplot as plt\n",
    "import seaborn as sns"
   ]
  },
  {
   "cell_type": "markdown",
   "metadata": {},
   "source": [
    "## Do you want state or city portals?"
   ]
  },
  {
   "cell_type": "code",
   "execution_count": 2,
   "metadata": {},
   "outputs": [],
   "source": [
    "#Create the list of state portals to iterate through\n",
    "\n",
    "universe = 'State'\n",
    "stp = []\n",
    "\n",
    "stp =[\"opendata.utah.gov\",\n",
    "\"opendata.maryland.gov\",\n",
    "\"data.wa.gov\",\n",
    "\"data.vermont.gov\",\n",
    "\"data.texas.gov\",\n",
    "\"data.pa.gov\",\n",
    "\"data.oregon.gov\",\n",
    "\"data.ny.gov\",\n",
    "\"data.nj.gov\",\n",
    "\"data.mo.gov\",\n",
    "\"data.michigan.gov\",\n",
    "\"data.iowa.gov\",\n",
    "\"data.hawaii.gov\",\n",
    "\"data.delaware.gov\",\n",
    "\"data.ct.gov\",\n",
    "\"data.colorado.gov\"]\n",
    "\n"
   ]
  },
  {
   "cell_type": "code",
   "execution_count": 3,
   "metadata": {},
   "outputs": [],
   "source": [
    "#Create the list of city portals to iterate through\n",
    "\n",
    "universe = \"City\"\n",
    "stp = []\n",
    "\n",
    "stp =[\"pip.nashville.gov\",\n",
    "\"opendata.cityofmesquite.com\",\n",
    "\"opendata.cityofhenderson.com\",\n",
    "\"opendata.ci.richmond.ca.us\",\n",
    "\"hartstat.hartford.gov\",\n",
    "\"data.urbanaillinois.us\",\n",
    "\"data.tuscaloosa.com\",\n",
    "\"data.topeka.org\",\n",
    "\"data.somervillema.gov\",\n",
    "\"data.seattle.gov\",\n",
    "\"data.roseville.ca.us\",\n",
    "\"data.richmondgov.com\",\n",
    "\"data.redmond.gov\",\n",
    "\"data.readingpa.gov\",\n",
    "\"data.providenceri.gov\",\n",
    "\"data.norfolk.gov\",\n",
    "\"data.nashville.gov\",\n",
    "\"data.montgomeryal.gov\",\n",
    "\"data.littlerock.gov\",\n",
    "\"data.lacity.org\",\n",
    "\"data.honolulu.gov\",\n",
    "\"data.hartford.gov\",\n",
    "\"data.cityoftacoma.org\",\n",
    "\"data.cityoforlando.net\",\n",
    "\"data.cityofnewyork.us\",\n",
    "\"data.cityofgp.com\",\n",
    "\"data.cityofgainesville.org\",\n",
    "\"data.cityofevanston.org\",\n",
    "\"data.cityofchicago.org\",\n",
    "\"data.cityofberkeley.info\",\n",
    "\"data.cincinnati-oh.gov\"]\n"
   ]
  },
  {
   "cell_type": "markdown",
   "metadata": {},
   "source": [
    "### Download json data and select metadata elements\n",
    "\n",
    "Creates a csv file in home directory and adds metadata to that file."
   ]
  },
  {
   "cell_type": "code",
   "execution_count": 5,
   "metadata": {},
   "outputs": [],
   "source": [
    "metadata=open(universe+'-portals-top5-METADATA.csv', 'w', newline='')\n",
    "csv.writer(metadata).writerow(['id','name','description','category','downloadCount','viewCount','licenseId','publicationDate','provenance','domain'])\n",
    "\n",
    "\n",
    "for s in stp:\n",
    "    i=requests.get('http://api.us.socrata.com/api/catalog/v1?domains='+s+'&search_context='+s+'&limit=5&only=datasets') #build string according to SOCRATA's convention to get top 5 assets\n",
    "    j=json.loads(i.text) #parse the json into a list named j\n",
    "    for r in j['results']:\n",
    "        csv.writer(metadata).writerow([r['resource']['id'].encode(\"utf-8\"),r['resource']['name'].encode(\"utf-8\"),r['resource'].get('description','N/A'),r['classification'].get('domain_category','N/A'),r['resource']['download_count'],r['resource']['page_views']['page_views_total'],r['metadata'].get('license','N/A'),r['resource']['createdAt'],r['resource']['provenance'],r['metadata']['domain']]) #write one line to csv file\n",
    "\n",
    "metadata.close() #Close the output file, release all locks"
   ]
  },
  {
   "cell_type": "markdown",
   "metadata": {},
   "source": [
    "### The following cell gives the number of datasets for the list of portals"
   ]
  },
  {
   "cell_type": "code",
   "execution_count": 3,
   "metadata": {},
   "outputs": [],
   "source": [
    "metadata=open(universe+'-portals-datasetnum.csv', 'w', newline='')\n",
    "csv.writer(metadata).writerow(['domain','number of datasets'])\n",
    "\n",
    "for s in stp:\n",
    "    i=requests.get('http://api.us.socrata.com/api/catalog/v1?domains='+s+'&only=datasets') #build string according to SOCRATA's convention to get top 5 assets\n",
    "    j=json.loads(i.text) #parse the json into a list named j\n",
    "    csv.writer(metadata).writerow([s,j['resultSetSize']])\n",
    "metadata.close() #Close the output file, release all locks"
   ]
  },
  {
   "cell_type": "code",
   "execution_count": null,
   "metadata": {},
   "outputs": [],
   "source": []
  }
 ],
 "metadata": {
  "kernelspec": {
   "display_name": "Python 3",
   "language": "python",
   "name": "python3"
  },
  "language_info": {
   "codemirror_mode": {
    "name": "ipython",
    "version": 3
   },
   "file_extension": ".py",
   "mimetype": "text/x-python",
   "name": "python",
   "nbconvert_exporter": "python",
   "pygments_lexer": "ipython3",
   "version": "3.7.3"
  }
 },
 "nbformat": 4,
 "nbformat_minor": 2
}
